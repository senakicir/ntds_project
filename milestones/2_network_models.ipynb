{
 "cells": [
  {
   "cell_type": "markdown",
   "metadata": {},
   "source": [
    "# [NTDS'18] milestone 2: network models\n",
    "[ntds'18]: https://github.com/mdeff/ntds_2018\n",
    "\n",
    "[Hermina Petric Maretic](https://people.epfl.ch/hermina.petricmaretic), [EPFL LTS4](https://lts4.epfl.ch)"
   ]
  },
  {
   "cell_type": "markdown",
   "metadata": {},
   "source": [
    "## Students\n",
    "\n",
    "* Team: `32`\n",
    "* Students: `George Adaimi, Okan Altingovde, Isinsu Katircioglu, Sena Kiciroglu`\n",
    "* Dataset: `FMA`"
   ]
  },
  {
   "cell_type": "markdown",
   "metadata": {},
   "source": [
    "## Rules\n",
    "\n",
    "* Milestones have to be completed by teams. No collaboration between teams is allowed.\n",
    "* Textual answers shall be short. Typically one to two sentences.\n",
    "* Code has to be clean.\n",
    "* In the first part, you cannot import any other library than we imported. In the second part, you are allowed to import any library you want.\n",
    "* When submitting, the notebook is executed and the results are stored. I.e., if you open the notebook again it should show numerical results and plots. We won't be able to execute your notebooks.\n",
    "* The notebook is re-executed from a blank state before submission. That is to be sure it is reproducible. You can click \"Kernel\" then \"Restart & Run All\" in Jupyter."
   ]
  },
  {
   "cell_type": "markdown",
   "metadata": {},
   "source": [
    "## Objective\n",
    "\n",
    "The purpose of this milestone is to explore various random network models, analyse their properties and compare them to your network. In the first part of the milestone you will implement two random graph models and try to fit them to your network. In this part you are not allowed to use any additional package. In the second part of the milestone you will choose a third random graph model that you think shares some properties with your network. You will be allowed to use additional packages to construct this network, but you must explain your network choice. Finally, make your code as clean as possible, and keep your textual answers short."
   ]
  },
  {
   "cell_type": "markdown",
   "metadata": {},
   "source": [
    "## Part 0\n",
    "\n",
    "Import the adjacency matrix of your graph that you constructed in milestone 1, as well as the number of nodes and edges of your network."
   ]
  },
  {
   "cell_type": "markdown",
   "metadata": {},
   "source": [
    "## Part 1\n",
    "\n",
    "**For the computation of this part of the milestone you are only allowed to use the packages that have been imported in the cell below.**"
   ]
  },
  {
   "cell_type": "code",
   "execution_count": 1,
   "metadata": {},
   "outputs": [],
   "source": [
    "%matplotlib inline\n",
    "\n",
    "import random\n",
    "\n",
    "import numpy as np\n",
    "import pandas as pd\n",
    "import matplotlib.pyplot as plt\n",
    "import scipy\n",
    "from scipy.spatial.distance import squareform "
   ]
  },
  {
   "cell_type": "code",
   "execution_count": 2,
   "metadata": {},
   "outputs": [
    {
     "name": "stdout",
     "output_type": "stream",
     "text": [
      "Number of nodes:  2000\n",
      "Number of edges:  32646\n"
     ]
    },
    {
     "data": {
      "text/plain": [
       "Text(0.5, 1.05, 'Our graph')"
      ]
     },
     "execution_count": 2,
     "metadata": {},
     "output_type": "execute_result"
    },
    {
     "data": {
      "image/png": "[encoded data removed]",
      "text/plain": [
       "<Figure size 432x288 with 1 Axes>"
      ]
     },
     "metadata": {},
     "output_type": "display_data"
    }
   ],
   "source": [
    "adjacency =  np.load('adjacency.npy')# the adjacency matrix\n",
    "n_nodes =  adjacency.shape[0]# the number of nodes in the network\n",
    "n_edges =  np.count_nonzero(adjacency)//2# the number of edges in the network\n",
    "print('Number of nodes: ', n_nodes)\n",
    "print('Number of edges: ', n_edges)\n",
    "\n",
    "adjacency_bin = np.zeros(adjacency.shape)\n",
    "adjacency_bin[adjacency > 0] = 1\n",
    "\n",
    "plt.spy(adjacency_bin)\n",
    "plt.title('Our graph')"
   ]
  },
  {
   "cell_type": "markdown",
   "metadata": {},
   "source": [
    "### Question 1\n",
    "\n",
    "Create a function that constructs an Erdős–Rényi graph."
   ]
  },
  {
   "cell_type": "code",
   "execution_count": 3,
   "metadata": {},
   "outputs": [],
   "source": [
    "def erdos_renyi(n, p, seed=None):\n",
    "    \"\"\"Create an instance from the Erdos-Renyi graph model.\n",
    "    \n",
    "    Parameters\n",
    "    ----------\n",
    "    n: int\n",
    "        Size of the graph.\n",
    "    p: float\n",
    "        Edge probability. A number between 0 and 1.\n",
    "    seed: int (optional)\n",
    "        Seed for the random number generator. To get reproducible results.\n",
    "    \n",
    "    Returns\n",
    "    -------\n",
    "    adjacency\n",
    "        The adjacency matrix of a graph.\n",
    "    \"\"\"\n",
    "    if seed is not None:\n",
    "        np.random.seed(seed)\n",
    "    flipped_coin = np.random.binomial(1, p, (n*(n-1)//2))\n",
    "    adjacency = squareform(flipped_coin)\n",
    "    return adjacency"
   ]
  },
  {
   "cell_type": "code",
   "execution_count": 4,
   "metadata": {},
   "outputs": [
    {
     "data": {
      "text/plain": [
       "Text(0.5, 1.05, 'Erdos-Renyi (5, 0.6)')"
      ]
     },
     "execution_count": 4,
     "metadata": {},
     "output_type": "execute_result"
    },
    {
     "data": {
      "image/png": "[encoded data removed]",
      "text/plain": [
       "<Figure size 432x288 with 1 Axes>"
      ]
     },
     "metadata": {},
     "output_type": "display_data"
    }
   ],
   "source": [
    "er = erdos_renyi(5, 0.6, 9765)\n",
    "plt.spy(er)\n",
    "plt.title('Erdos-Renyi (5, 0.6)')"
   ]
  },
  {
   "cell_type": "code",
   "execution_count": 5,
   "metadata": {},
   "outputs": [
    {
     "data": {
      "text/plain": [
       "Text(0.5, 1.05, 'Erdos-Renyi (10, 0.4)')"
      ]
     },
     "execution_count": 5,
     "metadata": {},
     "output_type": "execute_result"
    },
    {
     "data": {
      "image/png": "[encoded data removed]",
      "text/plain": [
       "<Figure size 432x288 with 1 Axes>"
      ]
     },
     "metadata": {},
     "output_type": "display_data"
    }
   ],
   "source": [
    "er = erdos_renyi(10, 0.4, 7648)\n",
    "plt.spy(er)\n",
    "plt.title('Erdos-Renyi (10, 0.4)')"
   ]
  },
  {
   "cell_type": "markdown",
   "metadata": {},
   "source": [
    "### Question 2\n",
    "\n",
    "Use the function to create a random Erdos-Renyi graph. Choose the parameters such that number of nodes is the same as in your graph, and the number of edges similar. You don't need to set the random seed. Comment on your choice of parameters."
   ]
  },
  {
   "cell_type": "code",
   "execution_count": 6,
   "metadata": {},
   "outputs": [
    {
     "name": "stdout",
     "output_type": "stream",
     "text": [
      "33118.0\n"
     ]
    },
    {
     "data": {
      "image/png": "[encoded data removed]",
      "text/plain": [
       "<Figure size 432x288 with 1 Axes>"
      ]
     },
     "metadata": {},
     "output_type": "display_data"
    }
   ],
   "source": [
    "erdos_renyi_graph = erdos_renyi(n_nodes, 0.0165, 41)\n",
    "n_edges_erdos_renyi = np.sum(erdos_renyi_graph)/2\n",
    "plt.spy(erdos_renyi_graph)\n",
    "plt.title('Erdos-Renyi (' + str(n_edges_erdos_renyi)+ ', 0.0165)')\n",
    "print(n_edges_erdos_renyi)"
   ]
  },
  {
   "cell_type": "markdown",
   "metadata": {},
   "source": [
    "**Our answer:**\n",
    "\n",
    "We had to choose a very low probability (0.0165) for the Erdos-Renyi graph to have a graph as sparse as our own graph. We chose this number by trial and error. "
   ]
  },
  {
   "cell_type": "markdown",
   "metadata": {},
   "source": [
    "### Question 3\n",
    "\n",
    "Create a function that constructs a Barabási-Albert graph."
   ]
  },
  {
   "cell_type": "code",
   "execution_count": 7,
   "metadata": {},
   "outputs": [],
   "source": [
    "def barabasi_albert(n, m, m0=2, seed=None):\n",
    "    \"\"\"Create an instance from the Barabasi-Albert graph model.\n",
    "    \n",
    "    Parameters\n",
    "    ----------\n",
    "    n: int\n",
    "        Size of the graph.\n",
    "    m: int\n",
    "        Number of edges to attach from a new node to existing nodes.\n",
    "    m0: int (optional)\n",
    "        Number of nodes for the inital connected network.\n",
    "    seed: int (optional)\n",
    "        Seed for the random number generator. To get reproducible results.\n",
    "    \n",
    "    Returns\n",
    "    -------\n",
    "    adjacency\n",
    "        The adjacency matrix of a graph.\n",
    "    \"\"\"\n",
    "    \n",
    "    if seed is not None:\n",
    "        np.random.seed(seed)\n",
    "    adjacency = np.zeros((n,n))\n",
    "    \n",
    "    #initial graph with m0 nodes. \n",
    "    initial_connection_list = np.zeros((m0*(m0-1)//2,))\n",
    "    while(not np.all(np.sum(adjacency[:m0,:m0], 0))): #make sure each node has at least one link\n",
    "        #create random edge between 2 nodes\n",
    "        new_connection_ind = np.random.randint(0, high=(m0*(m0-1)//2), size=1) \n",
    "        if initial_connection_list[new_connection_ind] != 1: \n",
    "            initial_connection_list[new_connection_ind]= 1 \n",
    "            #update adjacency matrix\n",
    "            adjacency[:m0,:m0] = squareform(initial_connection_list)\n",
    "\n",
    "    for new_node_ind in range(m0,n):\n",
    "        connected_count = 0 #in the beginning the node is unconnected\n",
    "        sum_of_degree = np.sum(np.sum(adjacency[:new_node_ind, :new_node_ind], axis=0))\n",
    "        \n",
    "        while (connected_count < m): #until i connect new nodes to m nodes, draw a new node and try to connect\n",
    "            random_node_ind = np.random.randint(0, high=new_node_ind, size=1) #draw a random existing node\n",
    "            if (adjacency[new_node_ind, random_node_ind] != 1): #if node is not already connected\n",
    "                #find degree of this new node\n",
    "                node_degree = np.sum(adjacency[random_node_ind, :new_node_ind])\n",
    "                #find sum of degree of all nodes\n",
    "                p = node_degree/sum_of_degree\n",
    "                p_drawn = np.random.rand(1,1)\n",
    "                if p_drawn < p: #connect node\n",
    "                    adjacency[random_node_ind, new_node_ind] =1\n",
    "                    adjacency[new_node_ind, random_node_ind] =1\n",
    "                    connected_count += 1\n",
    "    return adjacency"
   ]
  },
  {
   "cell_type": "code",
   "execution_count": 8,
   "metadata": {},
   "outputs": [
    {
     "data": {
      "text/plain": [
       "Text(0.5, 1.05, 'Barabasi-Albert (5, 1)')"
      ]
     },
     "execution_count": 8,
     "metadata": {},
     "output_type": "execute_result"
    },
    {
     "data": {
      "image/png": "[encoded data removed]",
      "text/plain": [
       "<Figure size 432x288 with 1 Axes>"
      ]
     },
     "metadata": {},
     "output_type": "display_data"
    }
   ],
   "source": [
    "ba = barabasi_albert(5, 1, 2, 9087)\n",
    "\n",
    "plt.spy(ba)\n",
    "plt.title('Barabasi-Albert (5, 1)')"
   ]
  },
  {
   "cell_type": "code",
   "execution_count": 9,
   "metadata": {},
   "outputs": [
    {
     "data": {
      "text/plain": [
       "Text(0.5, 1.05, 'Barabasi-Albert (10, 2)')"
      ]
     },
     "execution_count": 9,
     "metadata": {},
     "output_type": "execute_result"
    },
    {
     "data": {
      "image/png": "[encoded data removed]",
      "text/plain": [
       "<Figure size 432x288 with 1 Axes>"
      ]
     },
     "metadata": {},
     "output_type": "display_data"
    }
   ],
   "source": [
    "ba = barabasi_albert(10, 2, 3, 8708)\n",
    "plt.spy(ba)\n",
    "plt.title('Barabasi-Albert (10, 2)')"
   ]
  },
  {
   "cell_type": "markdown",
   "metadata": {},
   "source": [
    "### Question 4\n",
    "\n",
    "Use the function to create a random Barabási-Albert graph. Choose the parameters such that number of nodes is the same as in your graph, and the number of edges similar. You don't need to set the random seed. Comment on your choice of parameters."
   ]
  },
  {
   "cell_type": "code",
   "execution_count": 10,
   "metadata": {},
   "outputs": [
    {
     "name": "stdout",
     "output_type": "stream",
     "text": [
      "33689.0\n"
     ]
    },
    {
     "data": {
      "image/png": "[encoded data removed]",
      "text/plain": [
       "<Figure size 432x288 with 1 Axes>"
      ]
     },
     "metadata": {},
     "output_type": "display_data"
    }
   ],
   "source": [
    "barabasi_albert_graph = barabasi_albert(2000, 17, 20, 41)\n",
    "plt.spy(barabasi_albert_graph)\n",
    "plt.title('Barabasi-Albert (2000, 10)')\n",
    "n_edges_barabasi_albert = np.sum(barabasi_albert_graph)/2\n",
    "print(n_edges_barabasi_albert)"
   ]
  },
  {
   "cell_type": "markdown",
   "metadata": {},
   "source": [
    "**Your answer here**\n",
    "We start with around 20 initial nodes. We expect that this initial network to have few edges (negligable compared to our edge count). Therefore the only way the BA graph can have 32646 edges is for each new edge (there will be 1980 of them) to make 32600/1980 ~= 17 new connections. "
   ]
  },
  {
   "cell_type": "markdown",
   "metadata": {},
   "source": [
    "### Question 5\n",
    "\n",
    "Compare the number of edges in all three networks (your real network, the Erdős–Rényi network, and the Barabási-Albert netowk)."
   ]
  },
  {
   "cell_type": "code",
   "execution_count": 11,
   "metadata": {},
   "outputs": [
    {
     "name": "stdout",
     "output_type": "stream",
     "text": [
      "Our edges: 32646\n",
      "Erdos renyi Edges: 33118.0\n",
      "Barabasi-Albert Edges: 33689.0\n",
      "They are all similar!\n"
     ]
    }
   ],
   "source": [
    "# Your code here.\n",
    "n_edges_ours =  np.count_nonzero(adjacency)//2# the number of edges in the network\n",
    "n_edges_erdos_renyi = np.sum(erdos_renyi_graph)/2\n",
    "n_edges_barabasi_albert = np.sum(barabasi_albert_graph)/2\n",
    "\n",
    "print(\"Our edges:\", n_edges_ours)\n",
    "print(\"Erdos renyi Edges:\", n_edges_erdos_renyi)\n",
    "print(\"Barabasi-Albert Edges:\", n_edges_barabasi_albert)\n",
    "\n",
    "print(\"They are all similar!\")"
   ]
  },
  {
   "cell_type": "markdown",
   "metadata": {},
   "source": [
    "### Question 6\n",
    "\n",
    "Implement a function that computes the [Kullback–Leibler (KL) divergence](https://en.wikipedia.org/wiki/Kullback%E2%80%93Leibler_divergence) between two probability distributions.\n",
    "We'll use it to compare the degree distributions of networks."
   ]
  },
  {
   "cell_type": "code",
   "execution_count": 12,
   "metadata": {},
   "outputs": [],
   "source": [
    "def kl_divergence(p, q):\n",
    "    \"\"\"Compute the KL divergence between probability distributions of degrees of two networks.\n",
    "    \n",
    "    Parameters\n",
    "    ----------\n",
    "    p: np.array\n",
    "        Probability distribution of degrees of the 1st graph.\n",
    "    q: np.array\n",
    "        Probability distribution of degrees of the 2nd graph.\n",
    "    \n",
    "    Returns\n",
    "    -------\n",
    "    kl\n",
    "        The KL divergence between the two distributions.\n",
    "    \"\"\"\n",
    "    # Your code here.\n",
    "    kl= -np.sum(np.multiply(p,np.log(q/p)))    \n",
    "    return kl\n",
    "\n",
    "def get_KLDivergence(X):\n",
    "    epsilon = np.min(np.min(X))\n",
    "    epsilon = 0 if epsilon >0 else -epsilon+1 ##make sure all values are positive\n",
    "    distmat = []\n",
    "    ## Iterate to get the JS divergence between each sample ###\n",
    "    ## Will get an upper triangle of the matrix and then just straighten it###\n",
    "    for i,sample1 in enumerate(X.values[:-1]):\n",
    "        for j,sample2 in enumerate(X.values[(i+1):]):\n",
    "            distmat.append((scipy.stats.entropy(sample1+epsilon, sample2+epsilon) + scipy.stats.entropy(sample2+epsilon, sample1+epsilon))/2)\n",
    "    return np.array(distmat)\n"
   ]
  },
  {
   "cell_type": "code",
   "execution_count": 13,
   "metadata": {},
   "outputs": [
    {
     "name": "stdout",
     "output_type": "stream",
     "text": [
      "0.0915162218494358\n"
     ]
    }
   ],
   "source": [
    "p_test = np.array([0.2, 0.2, 0.2, 0.4])\n",
    "q_test = np.array([0.3, 0.3, 0.1, 0.3])\n",
    "print(kl_divergence(p_test, q_test))"
   ]
  },
  {
   "cell_type": "markdown",
   "metadata": {},
   "source": [
    "### Question 7: \n",
    "\n",
    "Compare the degree distribution of your network to each of the two synthetic ones, in terms of KL divergence.\n",
    "\n",
    "**Hint:** Make sure you normalise your degree distributions to make them valid probability distributions.\n",
    "\n",
    "**Hint:** Make sure none of the graphs have disconnected nodes, as KL divergence will not be defined in that case. If that happens with one of the randomly generated networks, you can regenerate it and keep the seed that gives you no disconnected nodes."
   ]
  },
  {
   "cell_type": "code",
   "execution_count": 14,
   "metadata": {},
   "outputs": [],
   "source": [
    "def has_disconnected_nodes(adjacency):\n",
    "    return not np.all(np.sum(adjacency, axis=0))\n",
    "\n",
    "def remove_disconnected_nodes(adjacency):\n",
    "    disconnected_nodes_ind = np.where((np.sum(adjacency, axis=0) == 0))\n",
    "    temp = np.delete(adjacency, disconnected_nodes_ind, axis = 0)\n",
    "    output = np.delete(temp, disconnected_nodes_ind, axis = 1)\n",
    "    return output\n"
   ]
  },
  {
   "cell_type": "code",
   "execution_count": 15,
   "metadata": {},
   "outputs": [
    {
     "name": "stdout",
     "output_type": "stream",
     "text": [
      "Our graph has disconnected nodes: True\n",
      "Removed disconnected nodes. Our graph now has 1799 nodes\n"
     ]
    }
   ],
   "source": [
    "#Does our graph have disconnected nodes?\n",
    "print(\"Our graph has disconnected nodes:\", has_disconnected_nodes(adjacency_bin))\n",
    "#We will remove these disconnected nodes.\n",
    "our_graph = remove_disconnected_nodes(adjacency_bin)\n",
    "n_nodes = our_graph.shape[0]\n",
    "print(\"Removed disconnected nodes. Our graph now has\", n_nodes, \"nodes\")"
   ]
  },
  {
   "cell_type": "code",
   "execution_count": 16,
   "metadata": {},
   "outputs": [],
   "source": [
    "#genereate new ER and BA graphs with same number of nodes\n",
    "er_graph = erdos_renyi(n_nodes, 0.02, 41)"
   ]
  },
  {
   "cell_type": "code",
   "execution_count": 17,
   "metadata": {},
   "outputs": [],
   "source": [
    "ba_graph = barabasi_albert(n_nodes, 17, 20, 41)"
   ]
  },
  {
   "cell_type": "code",
   "execution_count": 18,
   "metadata": {},
   "outputs": [
    {
     "name": "stdout",
     "output_type": "stream",
     "text": [
      "Edge count: ours: 32646.0 er: 32322 ba: 30272.0\n"
     ]
    }
   ],
   "source": [
    "print(\"Edge count: ours:\", np.sum(our_graph)//2, \"er:\", np.sum(er_graph)//2, \"ba:\", np.sum(ba_graph)//2)"
   ]
  },
  {
   "cell_type": "code",
   "execution_count": 19,
   "metadata": {},
   "outputs": [
    {
     "name": "stdout",
     "output_type": "stream",
     "text": [
      "KL Divergence between ours and ER: 0.3124131448112719\n",
      "KL Divergence between ours and BA: 0.12130305411164323\n"
     ]
    }
   ],
   "source": [
    "#Find degree distributions\n",
    "degree_sum_ours = np.sum(our_graph)\n",
    "degree_dist_ours = np.sort(np.sum(our_graph, axis=0)/degree_sum_ours)\n",
    "\n",
    "degree_sum_er = np.sum(er_graph)\n",
    "degree_dist_er = np.sort(np.sum(er_graph, axis=0)/degree_sum_er)\n",
    "\n",
    "degree_sum_ba = np.sum(ba_graph)\n",
    "degree_dist_ba = np.sort(np.sum(ba_graph, axis=0 )/degree_sum_ba)\n",
    "\n",
    "#find the KL divergences\n",
    "print(\"KL Divergence between ours and ER:\", kl_divergence(degree_dist_ours, degree_dist_er))\n",
    "print(\"KL Divergence between ours and BA:\", kl_divergence(degree_dist_ours, degree_dist_ba))"
   ]
  },
  {
   "cell_type": "markdown",
   "metadata": {},
   "source": [
    "### Question 8\n",
    "\n",
    "Plot the degree distribution historgrams for all three networks. Are they consistent with the KL divergence results? Explain."
   ]
  },
  {
   "cell_type": "code",
   "execution_count": 20,
   "metadata": {},
   "outputs": [
    {
     "data": {
      "image/png": "[encoded data removed]",
      "text/plain": [
       "<Figure size 432x288 with 3 Axes>"
      ]
     },
     "metadata": {},
     "output_type": "display_data"
    }
   ],
   "source": [
    "# Your code here.\n",
    "weights_ours = np.ones_like(degree_dist_ours) / float(n_nodes)\n",
    "weights_er = np.ones_like(degree_dist_er) / float(n_nodes)\n",
    "weights_ba = np.ones_like(degree_dist_ba) / float(n_nodes)\n",
    "\n",
    "fig = plt.figure()\n",
    "plt.suptitle(\"degree distributions\")\n",
    "plt.subplot(131)\n",
    "plt.hist(degree_dist_ours, weights=weights_ours)\n",
    "plt.title(\"ours\")\n",
    "plt.subplot(132)\n",
    "plt.hist(degree_dist_er, weights=weights_er)\n",
    "plt.title(\"ER\")\n",
    "plt.subplot(133)\n",
    "plt.hist(degree_dist_ba, weights=weights_ba)\n",
    "plt.title(\"BA\")\n",
    "plt.show()\n",
    "plt.close(fig)"
   ]
  },
  {
   "cell_type": "markdown",
   "metadata": {},
   "source": [
    "**Our answer:**\n",
    "Judging by the degree distributions, our network is closer to a Barabasi-Albert network than Erdos-Renyi. \n",
    "We expect the KL divergence to be **higher** between our graph and the ER graph, and **lower** between our graph and BA graph and we can observe this (KL divergence between ours and ER: 0.3124, between ours and BA: 0.1213)"
   ]
  },
  {
   "cell_type": "markdown",
   "metadata": {},
   "source": [
    "### Question 9\n",
    "\n",
    "Imagine you got equal degree distributions. Would that guarantee you got the same graph? Explain."
   ]
  },
  {
   "cell_type": "markdown",
   "metadata": {},
   "source": [
    "**Your answer here.**\n",
    "Equal degree distributions do not mean that the graphs are the same. Degree distributions show, from highest to lowest, the degree of each node. If we have two equal degree distributions, this does not mean that the nodes have to be connected in the same way. We show an example below to reinforce our point."
   ]
  },
  {
   "cell_type": "code",
   "execution_count": 21,
   "metadata": {},
   "outputs": [
    {
     "data": {
      "image/png": "[encoded data removed]",
      "text/plain": [
       "<Figure size 432x288 with 2 Axes>"
      ]
     },
     "metadata": {},
     "output_type": "display_data"
    },
    {
     "name": "stdout",
     "output_type": "stream",
     "text": [
      "They are different graphs!\n",
      "\n",
      "Degree distribution of graph 1: [0.07142857 0.07142857 0.07142857 0.14285714 0.14285714 0.14285714\n",
      " 0.14285714 0.21428571]\n",
      "Degree distribution of graph 2: [0.07142857 0.07142857 0.07142857 0.14285714 0.14285714 0.14285714\n",
      " 0.14285714 0.21428571]\n",
      "They have the same degree distribution!\n"
     ]
    }
   ],
   "source": [
    "#Form two graphs\n",
    "graph1 = np.zeros([8,8])\n",
    "graph1[0,1]=graph1[1,0]=1\n",
    "graph1[1,2]=graph1[2,1]=1\n",
    "graph1[1,3]=graph1[3,1]=1\n",
    "graph1[2,4]=graph1[4,2]=1\n",
    "graph1[3,5]=graph1[5,3]=1\n",
    "graph1[4,6]=graph1[6,4]=1\n",
    "graph1[5,7]=graph1[7,5]=1\n",
    "graph2 = np.zeros([8,8])\n",
    "graph2[0,2]=graph2[2,0]=1\n",
    "graph2[1,2]=graph2[2,1]=1\n",
    "graph2[2,3]=graph2[3,2]=1\n",
    "graph2[3,4]=graph2[4,3]=1\n",
    "graph2[4,5]=graph2[5,4]=1\n",
    "graph2[5,6]=graph2[6,5]=1\n",
    "graph2[6,7]=graph2[7,6]=1\n",
    "\n",
    "#Plot them\n",
    "fig = plt.figure()\n",
    "plt.subplot(121)\n",
    "plt.spy(graph1)\n",
    "plt.title('Graph1')\n",
    "plt.subplot(122)\n",
    "plt.spy(graph2)\n",
    "plt.title('Graph2')\n",
    "plt.show()\n",
    "plt.close(fig)\n",
    "print(\"They are different graphs!\\n\")\n",
    "\n",
    "degree_g1 = np.sum(graph1)\n",
    "degree_dist_g1 = np.sort(np.sum(graph1, axis=0)/degree_g1)\n",
    "degree_g2 = np.sum(graph2)\n",
    "degree_dist_g2 = np.sort(np.sum(graph2, axis=0)/degree_g2)\n",
    "print(\"Degree distribution of graph 1:\", degree_dist_g1)\n",
    "print(\"Degree distribution of graph 2:\", degree_dist_g2)\n",
    "print(\"They have the same degree distribution!\")"
   ]
  },
  {
   "cell_type": "markdown",
   "metadata": {},
   "source": [
    "## Part 2\n",
    "\n",
    "**You are allowed to use any additional library here (e.g., NetworkX, PyGSP, etc.).** Be careful not to include something here and use it in part 1!"
   ]
  },
  {
   "cell_type": "code",
   "execution_count": 22,
   "metadata": {},
   "outputs": [],
   "source": [
    "import networkx as nx"
   ]
  },
  {
   "cell_type": "markdown",
   "metadata": {},
   "source": [
    "### Question 10\n",
    "\n",
    "Choose a random network model that fits you network well. Explain your choice. \n",
    "\n",
    "**Hint:** Check lecture notes for different network models and their properties. Your choice should be made based on at least one property you'd expect to be similar."
   ]
  },
  {
   "cell_type": "markdown",
   "metadata": {},
   "source": [
    "**Our answer:**\n",
    "We choose a **Power-Law Cluster** network. Our reasons are the following:\n",
    "* We found that the degree distribution of our graph resembles a power-law degree distribution (albeit with a very high gamma value). Therefore, we wanted to generate a graph with a power-law degree distribution. \n",
    "* We compared the histogram of our degree distribution to those of Erdos-Renyi and Watts-Strogatz, and found that they look very different from ours. Therefore we did not want to choose these distributions.\n",
    "* When we check the size of the largest connected component, we find that it is 1769. Considering the fact that our graph is made up of 2000 nodes, we can say that we have a giant component in our graph. The power-law cluster algorithm implemented by the NetworkX library also leads to a giant component forming, because every new node that is added is more likely to attach to a node with a higher degree (preferential attachment), similar to Barabasi-Albert.\n",
    "* Our model has a high clustering coefficent. The power-law cluster network is also likely to have a higher clustering coefficent than similar algorithms such as Barabasi-Albert. This is because, in this algorithm, after the preferential attachment step, the new node also has a chance of making an edge to the neighbors of the node it has attached to (forming a triangle). "
   ]
  },
  {
   "cell_type": "markdown",
   "metadata": {},
   "source": [
    "### Question 11\n",
    "\n",
    "Explain (in short) how the chosen model works."
   ]
  },
  {
   "cell_type": "markdown",
   "metadata": {},
   "source": [
    "**Our answer:**\n",
    "The power-law cluster network model incorperates the ideas of growth and preferential attachment. It also leads to high clustering coefficents. It is formed in the following way:\n",
    "1. We start with an initial number of connected nodes (m_0).\n",
    "2. We add a new node to the graph. \n",
    "3. We randomly choose an existing node in the graph. The probability of making a new link between the new node and this existing node is determined by the existing node's degree divided by the sum of all degrees in the graph. This is called the preferential attachment step.\n",
    "4. If we have made the link in the preferential attachment step, we also consider a triad formation step with probably p.  We decide whether to make another connection between the new node and a neighbor of the node it has attached to. \n",
    "4. We repeat steps 3-4 (preferential attachment and triad formation) until the new node has m links.\n",
    "5. We keep adding nodes according to steps 2-3-4 until we have the number of nodes we need."
   ]
  },
  {
   "cell_type": "markdown",
   "metadata": {},
   "source": [
    "### Question 12\n",
    "\n",
    "Create a random graph from that model, such that the number of nodes is the same as in your graph."
   ]
  },
  {
   "cell_type": "code",
   "execution_count": 23,
   "metadata": {},
   "outputs": [
    {
     "name": "stdout",
     "output_type": "stream",
     "text": [
      "Number of edges is: ours: 32646\n",
      "Number of edges for power-law graph: 31947\n"
     ]
    }
   ],
   "source": [
    "our_graph_nx= nx.from_numpy_matrix(our_graph)\n",
    "print(\"Number of edges is: ours:\", our_graph_nx.number_of_edges())\n",
    "\n",
    "#We form \n",
    "n_nodes = nx.number_of_nodes(our_graph_nx)\n",
    "pl_graph_nx = nx.powerlaw_cluster_graph(n=n_nodes, m=18, p=0.8, seed=41)\n",
    "print(\"Number of edges for power-law graph:\", pl_graph_nx.number_of_edges())"
   ]
  },
  {
   "cell_type": "markdown",
   "metadata": {},
   "source": [
    "### Question 13\n",
    "\n",
    "Check the properties you expected to be similar, and compare to your network."
   ]
  },
  {
   "cell_type": "code",
   "execution_count": 24,
   "metadata": {},
   "outputs": [
    {
     "name": "stdout",
     "output_type": "stream",
     "text": [
      "Number of connected components: ours: 15 pl: 1\n",
      "Size of largest connected component: ours: 1769 pl: 1799\n",
      "Average degree is: ours: 36.2934963868816 pl: 35.51639799888827\n",
      "Std of degree is: ours: 35.5476571335769 pl: 33.648257933451845\n"
     ]
    },
    {
     "data": {
      "image/png": "[encoded data removed]",
      "text/plain": [
       "<Figure size 432x288 with 3 Axes>"
      ]
     },
     "metadata": {},
     "output_type": "display_data"
    },
    {
     "name": "stdout",
     "output_type": "stream",
     "text": [
      "KL divergence between the two graphs is: 0.1336052653350235\n",
      "Average clustering coefficent: ours: 0.4405204394667885 pl: 0.13553981799410597\n",
      "Average shortest path length: ours: 3.5815509184062373 pl: 2.366206414266732\n"
     ]
    }
   ],
   "source": [
    "our_connected_comp_list = list(nx.connected_component_subgraphs(our_graph_nx))\n",
    "pl_connected_comp_list = list(nx.connected_component_subgraphs(pl_graph_nx))\n",
    "print(\"Number of connected components: ours:\", nx.number_connected_components(our_graph_nx), \"pl:\",  nx.number_connected_components(pl_graph_nx))\n",
    "print(\"Size of largest connected component: ours:\", nx.number_of_nodes(our_connected_comp_list[0]), \"pl:\", nx.number_of_nodes(pl_connected_comp_list[0]))\n",
    "\n",
    "degree_sequence_pl = np.array(sorted([d for n, d in pl_graph_nx.degree()], reverse=False))  # degree sequence\n",
    "normalized_degree_sequence_pl = degree_sequence_pl/np.sum(degree_sequence_pl)\n",
    "degree_sequence_ours = np.array(sorted([d for n, d in our_graph_nx.degree()], reverse=False))  # degree sequence\n",
    "normalized_degree_sequence_ours = degree_sequence_ours/np.sum(degree_sequence_ours)\n",
    "\n",
    "print(\"Average degree is: ours:\", np.mean(degree_sequence_ours), \"pl:\", np.mean(degree_sequence_pl))\n",
    "print(\"Std of degree is: ours:\", np.std(degree_sequence_ours), \"pl:\", np.std(degree_sequence_pl))\n",
    "\n",
    "fig = plt.figure()\n",
    "weights = np.ones_like(normalized_degree_sequence_ours) / float(n_nodes)\n",
    "n, bins, patches = plt.hist(normalized_degree_sequence_ours, weights=weights, bins = 100)\n",
    "y_ax = bins[1:]\n",
    "weights_pl = np.ones_like(normalized_degree_sequence_pl) / float(n_nodes)\n",
    "n_pl, bins, patches = plt.hist(normalized_degree_sequence_pl, weights=weights_pl, bins = 100)\n",
    "y_ax_pl = bins[1:]\n",
    "plt.close(fig)\n",
    "\n",
    "fig = plt.figure()\n",
    "plt.suptitle(\"degree distribution\")\n",
    "plt.subplot(131)\n",
    "plt.title(\"log plot of ours\")\n",
    "plt.semilogy(y_ax, n,  \"bo\")\n",
    "plt.xlabel(\"k\")\n",
    "plt.subplot(132)\n",
    "plt.title(\"log plot of Power_Law\")\n",
    "plt.semilogy(y_ax_pl, n_pl,  \"ro\")\n",
    "plt.xlabel(\"k\")\n",
    "plt.subplot(133)\n",
    "plt.title(\"ours and pl\")\n",
    "plt.semilogy(y_ax_pl, n_pl,  \"ro\", label='pl')\n",
    "plt.semilogy(y_ax, n,  \"bo\", label='ours')\n",
    "plt.legend()\n",
    "plt.xlabel(\"k\")\n",
    "plt.show()\n",
    "plt.close(fig)\n",
    "\n",
    "print(\"KL divergence between the two graphs is:\", kl_divergence(normalized_degree_sequence_ours, normalized_degree_sequence_pl))\n",
    "print(\"Average clustering coefficent: ours:\", nx.average_clustering(our_graph_nx), \"pl:\",  nx.average_clustering(pl_graph_nx))\n",
    "print(\"Average shortest path length: ours:\", nx.average_shortest_path_length(our_connected_comp_list[0]), \"pl:\", nx.average_shortest_path_length(pl_graph_nx))"
   ]
  },
  {
   "cell_type": "markdown",
   "metadata": {},
   "source": [
    "Are the results what you expected? Explain."
   ]
  },
  {
   "cell_type": "markdown",
   "metadata": {},
   "source": [
    "**Our answer:**\n",
    "* The number of edges is very similar, since we purposely set the power-law cluster graph (denoted from now on as PL) to have a similar number of edges. Each new node added to the PL graph must make 18 new connections for the number of edges to be similar.\n",
    "* The size of the largest connected component is very similar (we have a few nodes that are still not connected to the giant component, whereas the PL graph is in its connected stage. This was expected.\n",
    "* We predicted that our degree distributions would be similar. The degree distribution itself looks similar and the KL divergence between them is low, except there are some differences. Our average degree turned out to be almost the same, however the std of our degree distribution is much higher.\n",
    "* The average clustering coefficent of our graph is much higher than the PL graph. This shows that our graph is more clustered than the PL graph (even though we specifically chose the PL graph model to have a high clustering coefficent, it was still not as high as our graph's). \n",
    "* The average shortest path length of our graph is larger than the PL graph's. The PL graph is closer to a small-world graph than our network."
   ]
  }
 ],
 "metadata": {
  "kernelspec": {
   "display_name": "Python 3",
   "language": "python",
   "name": "python3"
  },
  "language_info": {
   "codemirror_mode": {
    "name": "ipython",
    "version": 3
   },
   "file_extension": ".py",
   "mimetype": "text/x-python",
   "name": "python",
   "nbconvert_exporter": "python",
   "pygments_lexer": "ipython3",
   "version": "3.7.0"
  }
 },
 "nbformat": 4,
 "nbformat_minor": 2
}
