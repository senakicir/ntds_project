{
 "cells": [
  {
   "cell_type": "markdown",
   "metadata": {},
   "source": [
    "# [NTDS'18] milestone 2: network models\n",
    "[ntds'18]: https://github.com/mdeff/ntds_2018\n",
    "\n",
    "[Hermina Petric Maretic](https://people.epfl.ch/hermina.petricmaretic), [EPFL LTS4](https://lts4.epfl.ch)"
   ]
  },
  {
   "cell_type": "markdown",
   "metadata": {},
   "source": [
    "## Students\n",
    "\n",
    "* Team: `<your team number>`\n",
    "* Students: `<the name of all students in the team>`\n",
    "* Dataset: `<the dataset you used to complete the milestone>`"
   ]
  },
  {
   "cell_type": "markdown",
   "metadata": {},
   "source": [
    "## Rules\n",
    "\n",
    "* Milestones have to be completed by teams. No collaboration between teams is allowed.\n",
    "* Textual answers shall be short. Typically one to two sentences.\n",
    "* Code has to be clean.\n",
    "* In the first part, you cannot import any other library than we imported. In the second part, you are allowed to import any library you want.\n",
    "* When submitting, the notebook is executed and the results are stored. I.e., if you open the notebook again it should show numerical results and plots. We won't be able to execute your notebooks.\n",
    "* The notebook is re-executed from a blank state before submission. That is to be sure it is reproducible. You can click \"Kernel\" then \"Restart & Run All\" in Jupyter."
   ]
  },
  {
   "cell_type": "markdown",
   "metadata": {},
   "source": [
    "## Objective\n",
    "\n",
    "The purpose of this milestone is to explore various random network models, analyse their properties and compare them to your network. In the first part of the milestone you will implement two random graph models and try to fit them to your network. In this part you are not allowed to use any additional package. In the second part of the milestone you will choose a third random graph model that you think shares some properties with your network. You will be allowed to use additional packages to construct this network, but you must explain your network choice. Finally, make your code as clean as possible, and keep your textual answers short."
   ]
  },
  {
   "cell_type": "markdown",
   "metadata": {},
   "source": [
    "## Part 0\n",
    "\n",
    "Import the adjacency matrix of your graph that you constructed in milestone 1, as well as the number of nodes and edges of your network."
   ]
  },
  {
   "cell_type": "markdown",
   "metadata": {},
   "source": [
    "## Part 1\n",
    "\n",
    "**For the computation of this part of the milestone you are only allowed to use the packages that have been imported in the cell below.**"
   ]
  },
  {
   "cell_type": "code",
   "execution_count": 1,
   "metadata": {},
   "outputs": [],
   "source": [
    "%matplotlib inline\n",
    "\n",
    "import random\n",
    "\n",
    "import numpy as np\n",
    "import pandas as pd\n",
    "import matplotlib.pyplot as plt\n",
    "import scipy\n",
    "from scipy.spatial.distance import squareform "
   ]
  },
  {
   "cell_type": "code",
   "execution_count": 2,
   "metadata": {},
   "outputs": [
    {
     "name": "stdout",
     "output_type": "stream",
     "text": [
      "Number of nodes:  2000\n",
      "Number of edges:  32646\n"
     ]
    },
    {
     "data": {
      "text/plain": [
       "Text(0.5, 1.05, 'Our graph')"
      ]
     },
     "execution_count": 2,
     "metadata": {},
     "output_type": "execute_result"
    },
    {
     "data": {
      "image/png": "[encoded data removed]",
      "text/plain": [
       "<Figure size 432x288 with 1 Axes>"
      ]
     },
     "metadata": {},
     "output_type": "display_data"
    }
   ],
   "source": [
    "adjacency =  np.load('adjacency.npy')# the adjacency matrix\n",
    "n_nodes =  adjacency.shape[0]# the number of nodes in the network\n",
    "n_edges =  np.count_nonzero(adjacency)//2# the number of edges in the network\n",
    "print('Number of nodes: ', n_nodes)\n",
    "print('Number of edges: ', n_edges)\n",
    "\n",
    "adjacency_bin = np.zeros(adjacency.shape)\n",
    "adjacency_bin[adjacency > 0] = 1\n",
    "\n",
    "plt.spy(adjacency_bin)\n",
    "plt.title('Our graph')"
   ]
  },
  {
   "cell_type": "markdown",
   "metadata": {},
   "source": [
    "### Question 1\n",
    "\n",
    "Create a function that constructs an Erdős–Rényi graph."
   ]
  },
  {
   "cell_type": "code",
   "execution_count": 3,
   "metadata": {},
   "outputs": [],
   "source": [
    "def erdos_renyi(n, p, seed=None):\n",
    "    \"\"\"Create an instance from the Erdos-Renyi graph model.\n",
    "    \n",
    "    Parameters\n",
    "    ----------\n",
    "    n: int\n",
    "        Size of the graph.\n",
    "    p: float\n",
    "        Edge probability. A number between 0 and 1.\n",
    "    seed: int (optional)\n",
    "        Seed for the random number generator. To get reproducible results.\n",
    "    \n",
    "    Returns\n",
    "    -------\n",
    "    adjacency\n",
    "        The adjacency matrix of a graph.\n",
    "    \"\"\"\n",
    "    if seed is not None:\n",
    "        np.random.seed(seed)\n",
    "    flipped_coin = np.random.binomial(1, p, (n*(n-1)//2))\n",
    "    adjacency = squareform(flipped_coin)\n",
    "    return adjacency"
   ]
  },
  {
   "cell_type": "code",
   "execution_count": 4,
   "metadata": {},
   "outputs": [
    {
     "data": {
      "text/plain": [
       "Text(0.5, 1.05, 'Erdos-Renyi (5, 0.6)')"
      ]
     },
     "execution_count": 4,
     "metadata": {},
     "output_type": "execute_result"
    },
    {
     "data": {
      "image/png": "[encoded data removed]",
      "text/plain": [
       "<Figure size 432x288 with 1 Axes>"
      ]
     },
     "metadata": {},
     "output_type": "display_data"
    }
   ],
   "source": [
    "er = erdos_renyi(5, 0.6, 9765)\n",
    "plt.spy(er)\n",
    "plt.title('Erdos-Renyi (5, 0.6)')"
   ]
  },
  {
   "cell_type": "code",
   "execution_count": 5,
   "metadata": {},
   "outputs": [
    {
     "data": {
      "text/plain": [
       "Text(0.5, 1.05, 'Erdos-Renyi (10, 0.4)')"
      ]
     },
     "execution_count": 5,
     "metadata": {},
     "output_type": "execute_result"
    },
    {
     "data": {
      "image/png": "[encoded data removed]",
      "text/plain": [
       "<Figure size 432x288 with 1 Axes>"
      ]
     },
     "metadata": {},
     "output_type": "display_data"
    }
   ],
   "source": [
    "er = erdos_renyi(10, 0.4, 7648)\n",
    "plt.spy(er)\n",
    "plt.title('Erdos-Renyi (10, 0.4)')"
   ]
  },
  {
   "cell_type": "markdown",
   "metadata": {},
   "source": [
    "### Question 2\n",
    "\n",
    "Use the function to create a random Erdos-Renyi graph. Choose the parameters such that number of nodes is the same as in your graph, and the number of edges similar. You don't need to set the random seed. Comment on your choice of parameters."
   ]
  },
  {
   "cell_type": "code",
   "execution_count": 6,
   "metadata": {},
   "outputs": [
    {
     "name": "stdout",
     "output_type": "stream",
     "text": [
      "32743.0\n"
     ]
    },
    {
     "data": {
      "image/png": "[encoded data removed]",
      "text/plain": [
       "<Figure size 432x288 with 1 Axes>"
      ]
     },
     "metadata": {},
     "output_type": "display_data"
    }
   ],
   "source": [
    "erdos_renyi_graph = erdos_renyi(n_nodes, 0.0165)\n",
    "n_edges_erdos_renyi = np.sum(erdos_renyi_graph)/2\n",
    "plt.spy(erdos_renyi_graph)\n",
    "plt.title('Erdos-Renyi (' + str(n_edges_erdos_renyi)+ ', 0.0165)')\n",
    "print(n_edges_erdos_renyi)"
   ]
  },
  {
   "cell_type": "markdown",
   "metadata": {},
   "source": [
    "**Your answer here.**\n",
    "We had to choose a very low probability (0.0165) for the Erdos-Renyi graph to have a graph as sparse as our own graph. "
   ]
  },
  {
   "cell_type": "markdown",
   "metadata": {},
   "source": [
    "### Question 3\n",
    "\n",
    "Create a function that constructs a Barabási-Albert graph."
   ]
  },
  {
   "cell_type": "code",
   "execution_count": 7,
   "metadata": {},
   "outputs": [],
   "source": [
    "def barabasi_albert(n, m, m0=2, seed=None):\n",
    "    \"\"\"Create an instance from the Barabasi-Albert graph model.\n",
    "    \n",
    "    Parameters\n",
    "    ----------\n",
    "    n: int\n",
    "        Size of the graph.\n",
    "    m: int\n",
    "        Number of edges to attach from a new node to existing nodes.\n",
    "    m0: int (optional)\n",
    "        Number of nodes for the inital connected network.\n",
    "    seed: int (optional)\n",
    "        Seed for the random number generator. To get reproducible results.\n",
    "    \n",
    "    Returns\n",
    "    -------\n",
    "    adjacency\n",
    "        The adjacency matrix of a graph.\n",
    "    \"\"\"\n",
    "    \n",
    "    if seed is not None:\n",
    "        np.random.seed(seed)\n",
    "    adjacency = np.zeros((n,n))\n",
    "    \n",
    "    #initial graph with m0 nodes. \n",
    "    initial_connection_list = np.zeros((m0*(m0-1)//2,))\n",
    "    while(not np.all(np.sum(adjacency[:m0,:m0], 0))): #make sure each node has at least one link\n",
    "        #create random edge between 2 nodes\n",
    "        new_connection_ind = np.random.randint(0, high=(m0*(m0-1)//2), size=1) \n",
    "        if initial_connection_list[new_connection_ind] != 1: \n",
    "            initial_connection_list[new_connection_ind]= 1 \n",
    "            #update adjacency matrix\n",
    "            adjacency[:m0,:m0] = squareform(initial_connection_list)\n",
    "\n",
    "    for new_node_ind in range(m0,n):\n",
    "        connected_count = 0 #in the beginning the node is unconnected\n",
    "        sum_of_degree = np.sum(np.sum(adjacency[:new_node_ind, :new_node_ind], axis=0))\n",
    "        \n",
    "        while (connected_count < m): #until i connect new nodes to m nodes, draw a new node and try to connect\n",
    "            random_node_ind = np.random.randint(0, high=new_node_ind, size=1) #draw a random existing node\n",
    "            if (adjacency[new_node_ind, random_node_ind] != 1): #if node is not already connected\n",
    "                #find degree of this new node\n",
    "                node_degree = np.sum(adjacency[random_node_ind, :new_node_ind])\n",
    "                #find sum of degree of all nodes\n",
    "                p = node_degree/sum_of_degree\n",
    "                p_drawn = np.random.rand(1,1)\n",
    "                if p_drawn < p: #connect node\n",
    "                    adjacency[random_node_ind, new_node_ind] =1\n",
    "                    adjacency[new_node_ind, random_node_ind] =1\n",
    "                    connected_count += 1\n",
    "    return adjacency"
   ]
  },
  {
   "cell_type": "code",
   "execution_count": 8,
   "metadata": {},
   "outputs": [
    {
     "data": {
      "text/plain": [
       "Text(0.5, 1.05, 'Barabasi-Albert (5, 1)')"
      ]
     },
     "execution_count": 8,
     "metadata": {},
     "output_type": "execute_result"
    },
    {
     "data": {
      "image/png": "[encoded data removed]",
      "text/plain": [
       "<Figure size 432x288 with 1 Axes>"
      ]
     },
     "metadata": {},
     "output_type": "display_data"
    }
   ],
   "source": [
    "ba = barabasi_albert(5, 1, 2, 9087)\n",
    "\n",
    "plt.spy(ba)\n",
    "plt.title('Barabasi-Albert (5, 1)')"
   ]
  },
  {
   "cell_type": "code",
   "execution_count": 9,
   "metadata": {},
   "outputs": [
    {
     "data": {
      "text/plain": [
       "Text(0.5, 1.05, 'Barabasi-Albert (10, 2)')"
      ]
     },
     "execution_count": 9,
     "metadata": {},
     "output_type": "execute_result"
    },
    {
     "data": {
      "image/png": "[encoded data removed]",
      "text/plain": [
       "<Figure size 432x288 with 1 Axes>"
      ]
     },
     "metadata": {},
     "output_type": "display_data"
    }
   ],
   "source": [
    "ba = barabasi_albert(10, 2, 3, 8708)\n",
    "plt.spy(ba)\n",
    "plt.title('Barabasi-Albert (10, 2)')"
   ]
  },
  {
   "cell_type": "markdown",
   "metadata": {},
   "source": [
    "### Question 4\n",
    "\n",
    "Use the function to create a random Barabási-Albert graph. Choose the parameters such that number of nodes is the same as in your graph, and the number of edges similar. You don't need to set the random seed. Comment on your choice of parameters."
   ]
  },
  {
   "cell_type": "code",
   "execution_count": 10,
   "metadata": {},
   "outputs": [
    {
     "name": "stdout",
     "output_type": "stream",
     "text": [
      "31025.0\n"
     ]
    },
    {
     "data": {
      "image/png": "[encoded data removed]",
      "text/plain": [
       "<Figure size 432x288 with 1 Axes>"
      ]
     },
     "metadata": {},
     "output_type": "display_data"
    }
   ],
   "source": [
    "barabasi_albert_graph = barabasi_albert(2000, 18, 400)\n",
    "plt.spy(barabasi_albert_graph)\n",
    "plt.title('Barabasi-Albert (2000, 10)')\n",
    "n_edges_barabasi_albert = np.sum(barabasi_albert_graph)/2\n",
    "print(n_edges_barabasi_albert)"
   ]
  },
  {
   "cell_type": "markdown",
   "metadata": {},
   "source": [
    "**Your answer here**\n"
   ]
  },
  {
   "cell_type": "markdown",
   "metadata": {},
   "source": [
    "### Question 5\n",
    "\n",
    "Compare the number of edges in all three networks (your real network, the Erdős–Rényi network, and the Barabási-Albert netowk)."
   ]
  },
  {
   "cell_type": "code",
   "execution_count": 11,
   "metadata": {},
   "outputs": [
    {
     "name": "stdout",
     "output_type": "stream",
     "text": [
      "Our edges: 32646\n",
      "Erdos renyi Edges: 32743.0\n",
      "Barabasi-Albert Edges: 31025.0\n"
     ]
    }
   ],
   "source": [
    "# Your code here.\n",
    "n_edges_ours =  np.count_nonzero(adjacency)//2# the number of edges in the network\n",
    "n_edges_erdos_renyi = np.sum(erdos_renyi_graph)/2\n",
    "n_edges_barabasi_albert = np.sum(barabasi_albert_graph)/2\n",
    "\n",
    "print(\"Our edges:\", n_edges_ours)\n",
    "print(\"Erdos renyi Edges:\", n_edges_erdos_renyi)\n",
    "print(\"Barabasi-Albert Edges:\", n_edges_barabasi_albert)\n",
    "\n",
    "#They are all similar!"
   ]
  },
  {
   "cell_type": "markdown",
   "metadata": {},
   "source": [
    "### Question 6\n",
    "\n",
    "Implement a function that computes the [Kullback–Leibler (KL) divergence](https://en.wikipedia.org/wiki/Kullback%E2%80%93Leibler_divergence) between two probability distributions.\n",
    "We'll use it to compare the degree distributions of networks."
   ]
  },
  {
   "cell_type": "code",
   "execution_count": 12,
   "metadata": {},
   "outputs": [],
   "source": [
    "def kl_divergence(p, q):\n",
    "    \"\"\"Compute the KL divergence between probability distributions of degrees of two networks.\n",
    "    \n",
    "    Parameters\n",
    "    ----------\n",
    "    p: np.array\n",
    "        Probability distribution of degrees of the 1st graph.\n",
    "    q: np.array\n",
    "        Probability distribution of degrees of the 2nd graph.\n",
    "    \n",
    "    Returns\n",
    "    -------\n",
    "    kl\n",
    "        The KL divergence between the two distributions.\n",
    "    \"\"\"\n",
    "    # Your code here.\n",
    "    kl= -np.sum(np.multiply(p,np.log(q/p)))    \n",
    "    return kl\n",
    "\n",
    "def get_KLDivergence(X):\n",
    "    epsilon = np.min(np.min(X))\n",
    "    epsilon = 0 if epsilon >0 else -epsilon+1 ##make sure all values are positive\n",
    "    distmat = []\n",
    "    ## Iterate to get the JS divergence between each sample ###\n",
    "    ## Will get an upper triangle of the matrix and then just straighten it###\n",
    "    for i,sample1 in enumerate(X.values[:-1]):\n",
    "        for j,sample2 in enumerate(X.values[(i+1):]):\n",
    "            distmat.append((scipy.stats.entropy(sample1+epsilon, sample2+epsilon) + scipy.stats.entropy(sample2+epsilon, sample1+epsilon))/2)\n",
    "            #pdb.set_trace()\n",
    "    return np.array(distmat)\n"
   ]
  },
  {
   "cell_type": "code",
   "execution_count": 13,
   "metadata": {},
   "outputs": [
    {
     "name": "stdout",
     "output_type": "stream",
     "text": [
      "0.0915162218494358\n"
     ]
    }
   ],
   "source": [
    "p_test = np.array([0.2, 0.2, 0.2, 0.4])\n",
    "q_test = np.array([0.3, 0.3, 0.1, 0.3])\n",
    "print(kl_divergence(p_test, q_test))"
   ]
  },
  {
   "cell_type": "markdown",
   "metadata": {},
   "source": [
    "### Question 7: \n",
    "\n",
    "Compare the degree distribution of your network to each of the two synthetic ones, in terms of KL divergence.\n",
    "\n",
    "**Hint:** Make sure you normalise your degree distributions to make them valid probability distributions.\n",
    "\n",
    "**Hint:** Make sure none of the graphs have disconnected nodes, as KL divergence will not be defined in that case. If that happens with one of the randomly generated networks, you can regenerate it and keep the seed that gives you no disconnected nodes."
   ]
  },
  {
   "cell_type": "code",
   "execution_count": 22,
   "metadata": {},
   "outputs": [],
   "source": [
    "#from milestone 1\n",
    "def dfs(adjacency, node, visited, connected_list):\n",
    "    visited[node] = True\n",
    "    connected_list.append(node)\n",
    "    #find neighbors of selected node\n",
    "    neighbors = list(np.argwhere(adjacency[node]>0).squeeze(1))\n",
    "    for neighbor in neighbors:\n",
    "        #run dfs for all the neighbors i have not visited\n",
    "        if not visited[neighbor]:\n",
    "            dfs(adjacency, neighbor, visited, connected_list)\n",
    "    #cut out the connected component from the adjacency matrix\n",
    "    adjacency_graph = adjacency[connected_list,:][:, connected_list]\n",
    "    return visited, adjacency_graph\n",
    "\n",
    "def find_components(adjacency):\n",
    "    components = []\n",
    "    n_nodes = adjacency.shape[0]\n",
    "    visited_nodes = [False]*n_nodes\n",
    "    #After iteration of the below loop, we check if there are still nodes we have not visited.\n",
    "    #If there are, then these form another connected component. We do this until we have visited all nodes.\n",
    "    for node in range(n_nodes):\n",
    "        if not visited_nodes[node]:\n",
    "            visited_nodes, adjacency_graph = dfs(adjacency, node, visited_nodes, [])\n",
    "            components.append(adjacency_graph)\n",
    "    return components\n",
    "\n",
    "def has_disconnected_nodes(adjacency):\n",
    "    # Your code here.\n",
    "    components = find_components(adjacency)\n",
    "    n_connected_components = len(components)\n",
    "    smallest_connected_comp_size = min([adj.shape[0] for adj in components])\n",
    "    return (smallest_connected_comp_size == 1)"
   ]
  },
  {
   "cell_type": "code",
   "execution_count": null,
   "metadata": {},
   "outputs": [
    {
     "name": "stdout",
     "output_type": "stream",
     "text": [
      "Erdos-Renyi has disconnected nodes:  False\n"
     ]
    }
   ],
   "source": [
    "# Your code here.\n",
    "n_nodes = 2000\n",
    "\n",
    "#make sure our graph doesn't have disconnected nodes:\n",
    "#has_disconnected_nodes(adjacency_bin)\n",
    "#check erdos renyi and barabasi albert as well:\n",
    "print(\"Erdos-Renyi has disconnected nodes: \", has_disconnected_nodes(erdos_renyi_graph))\n",
    "print(\"Barabasi-Albert has disconnected nodes: \", has_disconnected_nodes(barabasi_albert_graph))\n",
    "\n",
    "degree_sum_ours = np.sum(adjacency_bin)\n",
    "degree_dist_ours = np.sum(adjacency_bin, axis=0)/degree_sum_ours\n",
    "\n",
    "degree_sum_er = np.sum(erdos_renyi_graph)\n",
    "degree_dist_er = np.sum(erdos_renyi_graph, axis=0)/degree_sum_er\n",
    "\n",
    "degree_sum_ba = np.sum(barabasi_albert_graph)\n",
    "degree_dist_ba = np.sum(barabasi_albert_graph, axis=0 )/degree_sum_ba\n",
    "\n",
    "\n",
    "print(kl_divergence(degree_dist_ours, degree_dist_er))\n",
    "print(kl_divergence(degree_dist_ours, degree_dist_ba))"
   ]
  },
  {
   "cell_type": "markdown",
   "metadata": {},
   "source": [
    "### Question 8\n",
    "\n",
    "Plot the degree distribution historgrams for all three networks. Are they consistent with the KL divergence results? Explain."
   ]
  },
  {
   "cell_type": "code",
   "execution_count": 20,
   "metadata": {},
   "outputs": [
    {
     "data": {
      "image/png": "[encoded data removed]",
      "text/plain": [
       "<Figure size 432x288 with 3 Axes>"
      ]
     },
     "metadata": {},
     "output_type": "display_data"
    }
   ],
   "source": [
    "# Your code here.\n",
    "weights_ours = np.ones_like(degree_dist_ours) / float(n_nodes)\n",
    "weights_er = np.ones_like(degree_dist_er) / float(n_nodes)\n",
    "weights_ba = np.ones_like(degree_dist_ba) / float(n_nodes)\n",
    "\n",
    "fig = plt.figure()\n",
    "plt.suptitle(\"degree distributions\")\n",
    "plt.subplot(131)\n",
    "plt.hist(degree_dist_ours, weights=weights_ours)\n",
    "plt.title(\"ours\")\n",
    "plt.subplot(132)\n",
    "plt.hist(degree_dist_er, weights=weights_er)\n",
    "plt.title(\"ER\")\n",
    "plt.subplot(133)\n",
    "plt.hist(degree_dist_ba, weights=weights_ba)\n",
    "plt.title(\"BA\")\n",
    "plt.show()\n",
    "plt.close(fig)"
   ]
  },
  {
   "cell_type": "markdown",
   "metadata": {},
   "source": [
    "**Your answer here.**\n",
    "Judging by the degree distributions, our network is closer to a Barabasi-Albert network than Erdos-Renyi. We expect the KL divergence to be high between our graph and the ER graph, and lower between our graph and BA graph."
   ]
  },
  {
   "cell_type": "markdown",
   "metadata": {},
   "source": [
    "### Question 9\n",
    "\n",
    "Imagine you got equal degree distributions. Would that guarantee you got the same graph? Explain."
   ]
  },
  {
   "cell_type": "markdown",
   "metadata": {},
   "source": [
    "**Your answer here.**"
   ]
  },
  {
   "cell_type": "markdown",
   "metadata": {},
   "source": [
    "## Part 2\n",
    "\n",
    "**You are allowed to use any additional library here (e.g., NetworkX, PyGSP, etc.).** Be careful not to include something here and use it in part 1!"
   ]
  },
  {
   "cell_type": "code",
   "execution_count": null,
   "metadata": {},
   "outputs": [],
   "source": [
    "import NetworkX as nx"
   ]
  },
  {
   "cell_type": "markdown",
   "metadata": {},
   "source": [
    "### Question 10\n",
    "\n",
    "Choose a random network model that fits you network well. Explain your choice. \n",
    "\n",
    "**Hint:** Check lecture notes for different network models and their properties. Your choice should be made based on at least one property you'd expect to be similar."
   ]
  },
  {
   "cell_type": "markdown",
   "metadata": {},
   "source": [
    "**Your answer here.**\n"
   ]
  },
  {
   "cell_type": "markdown",
   "metadata": {},
   "source": [
    "### Question 11\n",
    "\n",
    "Explain (in short) how the chosen model works."
   ]
  },
  {
   "cell_type": "markdown",
   "metadata": {},
   "source": [
    "**Your answer here.**"
   ]
  },
  {
   "cell_type": "markdown",
   "metadata": {},
   "source": [
    "### Question 12\n",
    "\n",
    "Create a random graph from that model, such that the number of nodes is the same as in your graph."
   ]
  },
  {
   "cell_type": "code",
   "execution_count": null,
   "metadata": {},
   "outputs": [],
   "source": [
    "# Your code here."
   ]
  },
  {
   "cell_type": "markdown",
   "metadata": {},
   "source": [
    "### Question 13\n",
    "\n",
    "Check the properties you expected to be similar, and compare to your network."
   ]
  },
  {
   "cell_type": "code",
   "execution_count": null,
   "metadata": {},
   "outputs": [],
   "source": [
    "# Your code here."
   ]
  },
  {
   "cell_type": "markdown",
   "metadata": {},
   "source": [
    "Are the results what you expected? Explain."
   ]
  },
  {
   "cell_type": "markdown",
   "metadata": {},
   "source": [
    "**Your answer here.**"
   ]
  }
 ],
 "metadata": {
  "kernelspec": {
   "display_name": "Python 3",
   "language": "python",
   "name": "python3"
  },
  "language_info": {
   "codemirror_mode": {
    "name": "ipython",
    "version": 3
   },
   "file_extension": ".py",
   "mimetype": "text/x-python",
   "name": "python",
   "nbconvert_exporter": "python",
   "pygments_lexer": "ipython3",
   "version": "3.7.0"
  }
 },
 "nbformat": 4,
 "nbformat_minor": 2
}
