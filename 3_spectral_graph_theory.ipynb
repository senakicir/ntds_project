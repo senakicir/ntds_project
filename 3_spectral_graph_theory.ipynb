{
 "cells": [
  {
   "cell_type": "markdown",
   "metadata": {},
   "source": [
    "# [NTDS'18] milestone 3: spectral graph theory\n",
    "[ntds'18]: https://github.com/mdeff/ntds_2018\n",
    "\n",
    "[Michaël Defferrard](http://deff.ch), [EPFL LTS2](https://lts2.epfl.ch)"
   ]
  },
  {
   "cell_type": "markdown",
   "metadata": {},
   "source": [
    "## Students\n",
    "\n",
    "* Team: `32`\n",
    "* Students: `George Adaimi, Okan Altingovde, Isinsu Katircioglu, Sena Kiciroglu`\n",
    "* Dataset: `FMA`"
   ]
  },
  {
   "cell_type": "markdown",
   "metadata": {},
   "source": [
    "## Rules\n",
    "\n",
    "* Milestones have to be completed by teams. No collaboration between teams is allowed.\n",
    "* Textual answers shall be short. Typically one to two sentences.\n",
    "* Code has to be clean.\n",
    "* You cannot import any other library than we imported.\n",
    "* When submitting, the notebook is executed and the results are stored. I.e., if you open the notebook again it should show numerical results and plots. We won't be able to execute your notebooks.\n",
    "* The notebook is re-executed from a blank state before submission. That is to be sure it is reproducible. You can click \"Kernel\" then \"Restart & Run All\" in Jupyter."
   ]
  },
  {
   "cell_type": "markdown",
   "metadata": {},
   "source": [
    "## Objective\n",
    "\n",
    "The goal of this milestone is to get familiar with the graph Laplacian and its spectral decomposition."
   ]
  },
  {
   "cell_type": "markdown",
   "metadata": {},
   "source": [
    "## 0 Load your network"
   ]
  },
  {
   "cell_type": "code",
   "execution_count": 1,
   "metadata": {},
   "outputs": [],
   "source": [
    "%matplotlib inline"
   ]
  },
  {
   "cell_type": "markdown",
   "metadata": {},
   "source": [
    "If you get a `No module named 'sklearn'` error when running the below cell, install [scikit-learn](https://scikit-learn.org) with `conda install scikit-learn` (after activating the `ntds_2018` environment)."
   ]
  },
  {
   "cell_type": "code",
   "execution_count": 2,
   "metadata": {},
   "outputs": [],
   "source": [
    "import numpy as np\n",
    "from scipy import sparse\n",
    "import scipy.sparse.linalg\n",
    "import matplotlib.pyplot as plt\n",
    "#from sklearn.cluster import KMeans"
   ]
  },
  {
   "cell_type": "markdown",
   "metadata": {},
   "source": [
    "Let's denote your graph as $\\mathcal{G} = (\\mathcal{V}, \\mathcal{E}, A)$, where $\\mathcal{V}$ is the set of nodes, $\\mathcal{E}$ is the set of edges, $A \\in \\mathbb{R}^{N \\times N}$ is the (weighted) adjacency matrix, and $N = |\\mathcal{V}|$ is the number of nodes.\n",
    "\n",
    "Import the adjacency matrix $A$ that you constructed in the first milestone.\n",
    "(You're allowed to update it between milestones if you want to.)"
   ]
  },
  {
   "cell_type": "code",
   "execution_count": 3,
   "metadata": {},
   "outputs": [
    {
     "name": "stdout",
     "output_type": "stream",
     "text": [
      "Number of nodes:  2000\n",
      "Number of edges:  600104\n"
     ]
    }
   ],
   "source": [
    "#adjacency =  np.load('adjacency.npy')# the adjacency matrix\n",
    "adjacency =  np.load('adjacency_noDisconnectedNodes_mfccStdMean.npy')\n",
    "n_nodes =  adjacency.shape[0]# the number of nodes in the network\n",
    "n_edges =  np.count_nonzero(adjacency)//2# the number of edges in the network\n",
    "print('Number of nodes: ', n_nodes)\n",
    "print('Number of edges: ', n_edges)"
   ]
  },
  {
   "cell_type": "markdown",
   "metadata": {},
   "source": [
    "## 1 Graph Laplacian"
   ]
  },
  {
   "cell_type": "markdown",
   "metadata": {},
   "source": [
    "### Question 1\n",
    "\n",
    "From the (weighted) adjacency matrix $A$, compute both the combinatorial (also called unnormalized) and the normalized graph Laplacian matrices.\n",
    "\n",
    "Note: if your graph is weighted, use the weighted adjacency matrix. If not, use the binary adjacency matrix.\n",
    "\n",
    "For efficient storage and computation, store these sparse matrices in a [compressed sparse row (CSR) format](https://en.wikipedia.org/wiki/Sparse_matrix#Compressed_sparse_row_.28CSR.2C_CRS_or_Yale_format.29)."
   ]
  },
  {
   "cell_type": "code",
   "execution_count": 4,
   "metadata": {},
   "outputs": [],
   "source": [
    "D = np.diag(adjacency.sum(axis=1))\n",
    "L = D - adjacency\n",
    "laplacian_combinatorial =  sparse.csr_matrix(L)\n",
    "\n",
    "sqrt_D = np.power(np.linalg.inv(D),0.5)\n",
    "laplacian_normalized = sparse.csr_matrix(sqrt_D@L@sqrt_D)\n"
   ]
  },
  {
   "cell_type": "markdown",
   "metadata": {},
   "source": [
    "Use one of them as the graph Laplacian $L$ for the rest of the milestone.\n",
    "We however encourage you to run the code with both to get a sense of the difference!"
   ]
  },
  {
   "cell_type": "code",
   "execution_count": 5,
   "metadata": {},
   "outputs": [],
   "source": [
    "laplacian =  laplacian_normalized"
   ]
  },
  {
   "cell_type": "markdown",
   "metadata": {},
   "source": [
    "### Question 2\n",
    "\n",
    "Compute the eigendecomposition of the Laplacian $L = U^\\top \\Lambda U$, where the columns $u_k \\in \\mathbb{R}^N$ of $U = [u_1, \\dots, u_N] \\in \\mathbb{R}^{N \\times N}$ are the eigenvectors and the diagonal elements $\\lambda_k = \\Lambda_{kk}$ are the corresponding eigenvalues.\n",
    "\n",
    "Make sure that the eigenvalues are ordered, i.e., $0 = \\lambda_1 \\leq \\lambda_2 \\leq \\dots \\leq \\lambda_N$."
   ]
  },
  {
   "cell_type": "code",
   "execution_count": 6,
   "metadata": {},
   "outputs": [],
   "source": [
    "eigenvalues, eigenvectors = np.linalg.eig(laplacian.todense())\n",
    "\n",
    "assert eigenvectors.shape == (n_nodes, n_nodes)\n",
    "\n",
    "## Sorting Eigenvalues and EigenVectors\n",
    "sorted_indexes = eigenvalues.argsort()\n",
    "eigenvalues = eigenvalues[sorted_indexes]\n",
    "eigenvectors = eigenvectors[sorted_indexes]"
   ]
  },
  {
   "cell_type": "markdown",
   "metadata": {},
   "source": [
    "Justify your choice of eigensolver."
   ]
  },
  {
   "cell_type": "markdown",
   "metadata": {},
   "source": [
    "**Our answer here.**\n",
    "We choose numpy's eigensolver since we want to compute eigenvalues for all eigenvectors which is not possible with scipy sparse eigensolver."
   ]
  },
  {
   "cell_type": "markdown",
   "metadata": {},
   "source": [
    "### Question 3\n",
    "\n",
    "We can write $L = S S^\\top$. What is the matrix $S$? What does $S^\\top x$, with $x \\in \\mathbb{R}^N$, compute?"
   ]
  },
  {
   "cell_type": "markdown",
   "metadata": {},
   "source": [
    "**Your answer here.** If L is the unnormalized laplacian, then S is the incidence matrix with its elements:\n",
    "\n",
    "$$S(i,j) = \\left\\{\\begin{matrix}\n",
    " +1& \\text{if } e_j=(v_i,v_k) \\text{ for some } k \\\\ \n",
    " -1& \\text{if } e_j=(v_k,v_i) \\text{ for some } k\\\\ \n",
    " 0& otherwise\n",
    "\\end{matrix}\\right.$$\n",
    "\n",
    "On the other hand, if L is normalized, then S is the matrix where:\n",
    "\n",
    "$$S(i,j) = \\left\\{\\begin{matrix}\n",
    " +\\frac{1}{\\sqrt{d_u}}& \\text{if } e_j=(v_i,v_k) \\text{ for some } k \\\\ \n",
    " -\\frac{1}{\\sqrt{d_u}}& \\text{if } e_j=(v_k,v_i) \\text{ for some } k\\\\ \n",
    " 0& otherwise\n",
    "\\end{matrix}\\right.$$\n",
    "\n",
    "where $d_v$ and $d_u$ denote the degree of the vertex v and u respectively.\n",
    "\n",
    "$S^Tx$ computes the eigenvectors of S. (The derivative?????)"
   ]
  },
  {
   "cell_type": "markdown",
   "metadata": {},
   "source": [
    "### Question 4\n",
    "\n",
    "Show that $\\lambda_k = \\| S^\\top u_k \\|_2^2$, where $\\| \\cdot \\|_2^2$ denotes the squared Euclidean norm (a.k.a. squared $L^2$ norm)."
   ]
  },
  {
   "cell_type": "markdown",
   "metadata": {},
   "source": [
    "**Your answer here.**"
   ]
  },
  {
   "cell_type": "markdown",
   "metadata": {},
   "source": [
    "What does the quantity $\\| S^\\top x \\|_2^2$ tell us about $x$?"
   ]
  },
  {
   "cell_type": "markdown",
   "metadata": {},
   "source": [
    "**Your answer here.**"
   ]
  },
  {
   "cell_type": "markdown",
   "metadata": {},
   "source": [
    "### Question 5\n",
    "\n",
    "What is the value of $u_0$, both for the combinatorial and normalized Laplacians?"
   ]
  },
  {
   "cell_type": "code",
   "execution_count": 7,
   "metadata": {},
   "outputs": [],
   "source": [
    "eigenvalues_c, eigenvectors_c = np.linalg.eig(laplacian_combinatorial.todense())\n",
    "sorted_indexes_c = eigenvalues_c.argsort()\n",
    "eigenvalues_c = eigenvalues_c[sorted_indexes_c]\n",
    "eigenvectors_c = eigenvectors_c[sorted_indexes_c]"
   ]
  },
  {
   "cell_type": "code",
   "execution_count": 9,
   "metadata": {},
   "outputs": [
    {
     "name": "stderr",
     "output_type": "stream",
     "text": [
      "/Users/kicirogl/anaconda3/envs/ntds_2018/lib/python3.7/site-packages/matplotlib/cbook/__init__.py:424: MatplotlibDeprecationWarning: \n",
      "Passing one of 'on', 'true', 'off', 'false' as a boolean is deprecated; use an actual boolean (True/False) instead.\n",
      "  warn_deprecated(\"2.2\", \"Passing one of 'on', 'true', 'off', 'false' as a \"\n"
     ]
    },
    {
     "data": {
      "image/png": "[encoded data removed]",
      "text/plain": [
       "<Figure size 432x288 with 1 Axes>"
      ]
     },
     "metadata": {},
     "output_type": "display_data"
    },
    {
     "data": {
      "image/png": "[encoded data removed]",
      "text/plain": [
       "<Figure size 432x288 with 1 Axes>"
      ]
     },
     "metadata": {},
     "output_type": "display_data"
    },
    {
     "name": "stdout",
     "output_type": "stream",
     "text": [
      "Norm: 1.8593805729541701\n",
      "Comb: 1129.5051562423532\n"
     ]
    }
   ],
   "source": [
    "u0_n = np.squeeze(np.asarray(eigenvectors[0]))\n",
    "u0_c = np.squeeze(np.asarray(eigenvectors_c[0]))\n",
    "\n",
    "\n",
    "def plot_spectrum(eigenvalues,with_label,range = None):\n",
    "    eigenvalues = eigenvalues[:None]\n",
    "    fig = plt.figure()\n",
    "    index = np.arange(len(eigenvalues))\n",
    "    ax = fig.add_subplot(1,1,1)\n",
    "    #ax.set_facecolor((1.0, 1.0, 1.0))\n",
    "    plt.plot(index, eigenvalues, label='eingenvalues', color='c', marker='o')\n",
    "    ax.set_ylabel('Value')\n",
    "    plt.xticks(index)\n",
    "    #plt.ylabel('Value')\n",
    "    plt.xlabel('k')\n",
    "    ax.grid('on')\n",
    "    \n",
    "    if with_label:\n",
    "        for x, eigenvalue in zip(index,eigenvalues):\n",
    "            ax.annotate('%.2f'%(eigenvalue), (x,eigenvalue))\n",
    "    plt.title('Value of lambda(k)', pad=25)\n",
    "    plt.show()\n",
    "    plt.close(fig)\n",
    "    \n",
    "plot_spectrum(u0_n[:1000],with_label=False)\n",
    "plot_spectrum(u0_c[:1000],with_label=False)\n",
    "\n",
    "print('Norm: {}'.format(eigenvalues[-1]))\n",
    "print('Comb: {}'.format(eigenvalues_c[-1]))\n",
    "\n",
    "#eigenvectors[0]"
   ]
  },
  {
   "cell_type": "markdown",
   "metadata": {},
   "source": [
    "**Your annswer here.**"
   ]
  },
  {
   "cell_type": "markdown",
   "metadata": {},
   "source": [
    "### Question 6\n",
    "\n",
    "Look at the spectrum of the Laplacian by plotting the eigenvalues.\n",
    "Comment on what you observe."
   ]
  },
  {
   "cell_type": "code",
   "execution_count": 10,
   "metadata": {},
   "outputs": [
    {
     "name": "stderr",
     "output_type": "stream",
     "text": [
      "/Users/kicirogl/anaconda3/envs/ntds_2018/lib/python3.7/site-packages/matplotlib/cbook/__init__.py:424: MatplotlibDeprecationWarning: \n",
      "Passing one of 'on', 'true', 'off', 'false' as a boolean is deprecated; use an actual boolean (True/False) instead.\n",
      "  warn_deprecated(\"2.2\", \"Passing one of 'on', 'true', 'off', 'false' as a \"\n"
     ]
    },
    {
     "data": {
      "image/png": "[encoded data removed]",
      "text/plain": [
       "<Figure size 432x288 with 1 Axes>"
      ]
     },
     "metadata": {},
     "output_type": "display_data"
    }
   ],
   "source": [
    "# Your code here.\n",
    "#0th eigenval should be 0\n",
    "\n",
    "def plot_spectrum(eigenvalues,with_label,scatter = False,range = None):\n",
    "    eigenvalues = eigenvalues[:None]\n",
    "    fig = plt.figure()\n",
    "    index = np.arange(len(eigenvalues))\n",
    "    ax = fig.add_subplot(1,1,1)\n",
    "    ax.set_facecolor((1.0, 1.0, 1.0))\n",
    "\n",
    "    ax.set_ylabel('Value')\n",
    "    plt.xticks(index)\n",
    "    #plt.ylabel('Value')\n",
    "    plt.xlabel('k')\n",
    "    ax.grid('on')\n",
    "\n",
    "    if with_label:\n",
    "        for x, eigenvalue in zip(index,eigenvalues):\n",
    "            ax.annotate('%.2f'%(eigenvalue), (x,eigenvalue))\n",
    "    if not scatter:\n",
    "        plt.plot(index, eigenvalues, label='eingenvalues', color='c', marker='o')  \n",
    "    else:\n",
    "        plt.scatter(index, eigenvalues, label='eingenvalues', color='c', marker='o')\n",
    "    plt.title('Value of lambda(k)', pad=25)\n",
    "    plt.show()\n",
    "    plt.close(fig)\n",
    "        \n",
    "plot_spectrum(eigenvalues[:100],scatter=True, with_label=False)   "
   ]
  },
  {
   "cell_type": "markdown",
   "metadata": {},
   "source": [
    "**Our answer:**\n",
    "* The smallest eigenvalue is 0 and the next smallest eigenvalue is greater than 0. This shows that the multiplicity of 0 is 1, and we have only 1 connected component in our graph.\n",
    "* The largest eigenvalue is less than 2."
   ]
  },
  {
   "cell_type": "markdown",
   "metadata": {},
   "source": [
    "How many connected components are there in your graph? Answer using the eigenvalues only."
   ]
  },
  {
   "cell_type": "code",
   "execution_count": 11,
   "metadata": {},
   "outputs": [
    {
     "name": "stdout",
     "output_type": "stream",
     "text": [
      "The number of connected components: 1\n"
     ]
    }
   ],
   "source": [
    "# Your code here.\n",
    "#we count the number of eigenvalues with value 0\n",
    "def get_numbConnectedComp(eigenvalues):\n",
    "    return np.sum(np.round(eigenvalues,decimals=2) == 0)\n",
    "\n",
    "print(\"The number of connected components:\", get_numbConnectedComp(eigenvalues))"
   ]
  },
  {
   "cell_type": "markdown",
   "metadata": {},
   "source": [
    "Is there an upper bound on the eigenvalues, i.e., what is the largest possible eigenvalue? Answer for both the combinatorial and normalized Laplacians."
   ]
  },
  {
   "cell_type": "markdown",
   "metadata": {},
   "source": [
    "**Our answer:**\n",
    "* The upperbound for the normalized Laplacian's largest eigenvalue is 2. It can be equal to 2 if and only if the graph is bipartite. \n",
    "* There is no upperbound for the combanitorial Laplacian's largest eigenvalue. **check**"
   ]
  },
  {
   "cell_type": "markdown",
   "metadata": {},
   "source": [
    "## 3 Laplacian eigenmaps\n",
    "\n",
    "*Laplacian eigenmaps* is a method to embed a graph $\\mathcal{G}$ in a $d$-dimensional Euclidean space.\n",
    "That is, it associates a vector $z_i \\in \\mathbb{R}^d$ to every node $v_i \\in \\mathcal{V}$.\n",
    "The graph $\\mathcal{G}$ is thus embedded as $Z \\in \\mathbb{R}^{N \\times d}$."
   ]
  },
  {
   "cell_type": "markdown",
   "metadata": {},
   "source": [
    "### Question 7\n",
    "\n",
    "What do we use Laplacian eigenmaps for? (Or more generally, graph embeddings.)"
   ]
  },
  {
   "cell_type": "markdown",
   "metadata": {},
   "source": [
    "**Your answer here.**\n",
    "We use Laplacian eigenmaps to reduce the dimensionality of the graph. This allows us to process the graph more easily by reducing the dimension while not affecting how the nodes are clustered within the graph.\n",
    "\n",
    "\n",
    "and to be able to process the graph itself."
   ]
  },
  {
   "cell_type": "markdown",
   "metadata": {},
   "source": [
    "### Question 8\n",
    "\n",
    "Embed your graph in $d=2$ dimensions with Laplacian eigenmaps.\n",
    "Try with and without re-normalizing the eigenvectors by the degrees, then keep the one your prefer.\n",
    "\n",
    "**Recompute** the eigenvectors you need with a partial eigendecomposition method for sparse matrices.\n",
    "When $k \\ll N$ eigenvectors are needed, partial eigendecompositions are much more efficient than complete eigendecompositions.\n",
    "A partial eigendecomposition scales as $\\Omega(k |\\mathcal{E}|$), while a complete eigendecomposition costs $\\mathcal{O}(N^3)$ operations."
   ]
  },
  {
   "cell_type": "code",
   "execution_count": 13,
   "metadata": {},
   "outputs": [],
   "source": [
    "# Your code here.\n",
    "\n",
    "def get_LaplacianEigenMaps(laplacian, new_dim =2,use_normalized=True):\n",
    "    eigenvalues, eigenvectors = sparse.linalg.eigsh(laplacian, which='SM', k=new_dim+1)\n",
    "    embeddings = eigenvectors[:,1:new_dim+1]\n",
    "    if use_normalized:\n",
    "        return (embeddings.T*np.diag(sqrt_D)).T\n",
    "    return embeddings\n",
    "\n",
    "embeddings_c = get_LaplacianEigenMaps(laplacian_combinatorial,use_normalized=False)\n",
    "\n",
    "embeddings_n = get_LaplacianEigenMaps(laplacian_normalized)\n",
    "\n",
    "\n",
    "#### REMOVE:  Checking sklearn output\n",
    "#from sklearn.manifold import spectral_embedding\n",
    "\n",
    "#embeddings_n_sc = spectral_embedding(adjacency, n_components=2)\n",
    "#embeddings_c_sc = spectral_embedding(adjacency, n_components=2,norm_laplacian = False)"
   ]
  },
  {
   "cell_type": "markdown",
   "metadata": {},
   "source": [
    "Plot the nodes embedded in 2D. Comment on what you see."
   ]
  },
  {
   "cell_type": "code",
   "execution_count": 14,
   "metadata": {},
   "outputs": [
    {
     "name": "stdout",
     "output_type": "stream",
     "text": [
      "Shape of embedding_c: (2000, 2)\n",
      "Shape of embedding_n: (2000, 2)\n"
     ]
    },
    {
     "data": {
      "image/png": "[encoded data removed]",
      "text/plain": [
       "<Figure size 432x288 with 1 Axes>"
      ]
     },
     "metadata": {},
     "output_type": "display_data"
    },
    {
     "data": {
      "image/png": "[encoded data removed]",
      "text/plain": [
       "<Figure size 432x288 with 1 Axes>"
      ]
     },
     "metadata": {},
     "output_type": "display_data"
    }
   ],
   "source": [
    "# Your code here.\n",
    "print('Shape of embedding_c: {}'.format(embeddings_c.shape))\n",
    "print('Shape of embedding_n: {}'.format(embeddings_n.shape))\n",
    "fig = plt.figure()\n",
    "plt.scatter(embeddings_c[:,0],embeddings_c[:,1], label='', color='c', marker='o')\n",
    "plt.title('Combinatorial Laplacian Eigenmaps d=2')\n",
    "plt.show()\n",
    "plt.close(fig)\n",
    "\n",
    "fig = plt.figure()\n",
    "plt.scatter(embeddings_n[:,0],embeddings_n[:,1], label='', color='y', marker='o')\n",
    "plt.title('Normalized Laplacian Eigenmaps d=2')\n",
    "plt.show()\n",
    "plt.close(fig)\n",
    "\n",
    "\n",
    "##### REMOVE: Checking sklearn output\n",
    "#fig = plt.figure()\n",
    "#plt.scatter(embeddings_c_sc[:,0],embeddings_c_sc[:,1], label='', color='c', marker='o')\n",
    "#plt.title('Combinatorial Scipy Laplacian Eigenmaps d=2')\n",
    "#plt.show()\n",
    "#plt.close(fig)\n",
    "\n",
    "#fig = plt.figure()\n",
    "#plt.scatter(embeddings_n_sc[:,0],embeddings_n_sc[:,1], label='', color='y', marker='o')\n",
    "#plt.title('Normalized Scipy Laplacian Eigenmaps d=2')\n",
    "#plt.show()\n",
    "#plt.close(fig)"
   ]
  },
  {
   "cell_type": "markdown",
   "metadata": {},
   "source": [
    "**Your answer here.**"
   ]
  },
  {
   "cell_type": "markdown",
   "metadata": {},
   "source": [
    "### Question 9"
   ]
  },
  {
   "cell_type": "markdown",
   "metadata": {},
   "source": [
    "What does the embedding $Z \\in \\mathbb{R}^{N \\times d}$ preserve?"
   ]
  },
  {
   "cell_type": "markdown",
   "metadata": {},
   "source": [
    "**Your answer here.**\n",
    "* Preserves the relationship between nodes that is it keeps information about how nodes are clustered together. It does not ruin the locality of the nodes."
   ]
  },
  {
   "cell_type": "markdown",
   "metadata": {},
   "source": [
    "## 2 Spectral clustering\n",
    "\n",
    "*Spectral clustering* is a method to partition a graph into distinct clusters.\n",
    "The method associates a feature vector $z_i \\in \\mathbb{R}^d$ to every node $v_i \\in \\mathcal{V}$, then runs [$k$-means](https://en.wikipedia.org/wiki/K-means_clustering) in the embedding space $\\mathbb{R}^d$ to assign each node $v_i \\in \\mathcal{V}$ to a cluster $c_j \\in \\mathcal{C}$, where $k = |\\mathcal{C}|$ is the number of desired clusters."
   ]
  },
  {
   "cell_type": "markdown",
   "metadata": {},
   "source": [
    "### Question 10\n",
    "\n",
    "Choose $k$ and $d$. How did you get to those numbers?"
   ]
  },
  {
   "cell_type": "markdown",
   "metadata": {},
   "source": [
    "**Our answer**\n",
    "* k=2 because we are using the small version of the FMA dataset which has 2 labels. "
   ]
  },
  {
   "cell_type": "markdown",
   "metadata": {},
   "source": [
    "### Question 11\n",
    "\n",
    "1. Embed your graph in $\\mathbb{R}^d$ as $Z \\in \\mathbb{R}^{N \\times d}$.\n",
    "   Try with and without re-normalizing the eigenvectors by the degrees, then keep the one your prefer.\n",
    "1. If you want $k=2$ clusters, partition with the Fiedler vector. For $k > 2$ clusters, run $k$-means on $Z$. Don't implement $k$-means, use the `KMeans` class imported from scikit-learn."
   ]
  },
  {
   "cell_type": "code",
   "execution_count": 75,
   "metadata": {},
   "outputs": [],
   "source": [
    "# Your code here.\n",
    "embeddings_c_100 = get_LaplacianEigenMaps(laplacian_combinatorial, new_dim = 100, use_normalized=False)\n",
    "embeddings_n_100 = get_LaplacianEigenMaps(laplacian_normalized, new_dim = 100)\n",
    "\n",
    "_, temp = sparse.linalg.eigsh(laplacian_normalized, which='SM', k=2)\n",
    "fiedler_vector_n = temp[:,1]\n",
    "\n",
    "_, temp = sparse.linalg.eigsh(laplacian_combinatorial, which='SM', k=2)\n",
    "fiedler_vector_c = temp[:,1]"
   ]
  },
  {
   "cell_type": "code",
   "execution_count": 76,
   "metadata": {},
   "outputs": [
    {
     "name": "stdout",
     "output_type": "stream",
     "text": [
      "When we use normalized Laplacian:\n",
      "Number of nodes with label 1: 1589\n",
      "Number of nodes with label -1: 411\n",
      "\n",
      "When we use combinatorial Laplacian:\n",
      "Number of nodes with label 1: 11\n",
      "Number of nodes with label -1: 1989\n",
      "\n",
      "Since we have less uneven clustering using the normalized Laplacian, we prefer to keep using this one.\n"
     ]
    }
   ],
   "source": [
    "clusters_n = np.zeros([n_nodes,])\n",
    "clusters_n[fiedler_vector_n>0] = 1\n",
    "clusters_n[fiedler_vector_n<=0] = -1\n",
    "\n",
    "print(\"When we use normalized Laplacian:\")\n",
    "print(\"Number of nodes with label 1:\", (clusters_n[clusters_n ==1]).shape[0])\n",
    "print(\"Number of nodes with label -1:\", (clusters_n[clusters_n ==-1]).shape[0])\n",
    "\n",
    "clusters_c = np.zeros([n_nodes,])\n",
    "clusters_c[fiedler_vector_c>0] = 1\n",
    "clusters_c[fiedler_vector_c<=0] = -1\n",
    "\n",
    "print(\"\\nWhen we use combinatorial Laplacian:\")\n",
    "print(\"Number of nodes with label 1:\", (clusters_c[clusters_c ==1]).shape[0])\n",
    "print(\"Number of nodes with label -1:\", (clusters_c[clusters_c ==-1]).shape[0])\n",
    "\n",
    "print(\"\\nSince we have less uneven clustering using the normalized Laplacian, we prefer to keep using this one.\")"
   ]
  },
  {
   "cell_type": "markdown",
   "metadata": {},
   "source": [
    "### Question 12\n",
    "\n",
    "Use the computed cluster assignment to reorder the adjacency matrix $A$.\n",
    "What do you expect? What do you observe?"
   ]
  },
  {
   "cell_type": "code",
   "execution_count": 89,
   "metadata": {},
   "outputs": [
    {
     "data": {
      "image/png": "[encoded data removed]",
      "text/plain": [
       "<Figure size 432x288 with 2 Axes>"
      ]
     },
     "metadata": {},
     "output_type": "display_data"
    }
   ],
   "source": [
    "# Your code here.\n",
    "adjacency_reordered = np.zeros([n_nodes, n_nodes])\n",
    "n_nodes_1 = clusters[clusters_n == 1].shape[0]\n",
    "\n",
    "adjacency_reordered[:n_nodes_1, :n_nodes_1] = adjacency[clusters_n == 1, clusters_n == 1]\n",
    "adjacency_reordered[n_nodes_1:, n_nodes_1:] = adjacency[clusters_n == -1, clusters_n == -1]\n",
    "\n",
    "fig = plt.figure()\n",
    "plt.subplot(1,2,1)\n",
    "plt.imshow(adjacency)\n",
    "plt.title('Old adjacency')\n",
    "plt.subplot(1,2,2)\n",
    "plt.imshow(adjacency_reordered)\n",
    "plt.title('New adjacency')\n",
    "plt.show()\n",
    "plt.close(fig)"
   ]
  },
  {
   "cell_type": "markdown",
   "metadata": {},
   "source": [
    "**Your answer here.**"
   ]
  },
  {
   "cell_type": "markdown",
   "metadata": {},
   "source": [
    "### Question 13\n",
    "\n",
    "If you have ground truth clusters for your dataset, compare the cluster assignment from spectral clustering to the ground truth.\n",
    "A simple quantitative measure is to compute the percentage of nodes that have been correctly categorized.\n",
    "If you don't have a ground truth, qualitatively assess the quality of the clustering.\n",
    "\n",
    "Ground truth clusters are the \"real clusters\".\n",
    "For example, the genre of musical tracks in FMA, the category of Wikipedia articles, the spammer status of individuals, etc.\n",
    "Look for the `labels` in the [dataset descriptions](https://github.com/mdeff/ntds_2018/tree/master/projects/README.md)."
   ]
  },
  {
   "cell_type": "code",
   "execution_count": 19,
   "metadata": {},
   "outputs": [],
   "source": [
    "# Your code here."
   ]
  },
  {
   "cell_type": "markdown",
   "metadata": {},
   "source": [
    "### Question 14\n",
    "\n",
    "Plot the cluster assignment (one color per cluster) on the 2D embedding you computed above with Laplacian eigenmaps."
   ]
  },
  {
   "cell_type": "code",
   "execution_count": 27,
   "metadata": {},
   "outputs": [
    {
     "data": {
      "image/png": "[encoded data removed]",
      "text/plain": [
       "<Figure size 432x288 with 1 Axes>"
      ]
     },
     "metadata": {},
     "output_type": "display_data"
    },
    {
     "data": {
      "image/png": "[encoded data removed]",
      "text/plain": [
       "<Figure size 432x288 with 1 Axes>"
      ]
     },
     "metadata": {},
     "output_type": "display_data"
    }
   ],
   "source": [
    "# Your code here.\n",
    "fig = plt.figure()\n",
    "plt.scatter(embeddings_c[clusters_c==1,0],embeddings_c[clusters_c==1,1], label='', color='r', marker='x')\n",
    "plt.scatter(embeddings_c[clusters_c==-1,0],embeddings_c[clusters_c==-1,1], label='', color='y', marker='o')\n",
    "plt.title('Clusters (combinatorial)')\n",
    "plt.show()\n",
    "plt.close(fig)\n",
    "\n",
    "fig = plt.figure()\n",
    "plt.scatter(embeddings_n[clusters_n==1,0],embeddings_n[clusters_n==1,1], label='', color='r', marker='x')\n",
    "plt.scatter(embeddings_n[clusters_n==-1,0],embeddings_n[clusters_n==-1,1], label='', color='y', marker='o')\n",
    "plt.title('Clusters (normalized)')\n",
    "plt.show()\n",
    "plt.close(fig)"
   ]
  },
  {
   "cell_type": "code",
   "execution_count": 62,
   "metadata": {},
   "outputs": [
    {
     "data": {
      "image/png": "[encoded data removed]",
      "text/plain": [
       "<Figure size 432x288 with 1 Axes>"
      ]
     },
     "metadata": {},
     "output_type": "display_data"
    },
    {
     "data": {
      "image/png": "[encoded data removed]",
      "text/plain": [
       "<Figure size 432x288 with 1 Axes>"
      ]
     },
     "metadata": {},
     "output_type": "display_data"
    }
   ],
   "source": [
    "def remove_outliers(embeddings, clusters):\n",
    "    mean_vec = np.mean(embeddings, axis=0)\n",
    "    std_vec = np.std(embeddings, axis=0)\n",
    "    ind_temp = (abs(embeddings - mean_vec)< 2*std_vec)\n",
    "    ind = np.logical_and(ind_temp[:,0], ind_temp[:,1])\n",
    "    embeddings_new = embeddings[ind]\n",
    "    clusters_new = clusters[ind]\n",
    "    return embeddings_new, clusters_new\n",
    "embeddings_new_c, clusters_new_c = remove_outliers(embeddings_c, clusters_c)\n",
    "embeddings_new_n, clusters_new_n = remove_outliers(embeddings_n, clusters_n)\n",
    "\n",
    "fig = plt.figure()\n",
    "plt.scatter(embeddings_new_c[clusters_new_c==1,0],embeddings_new_c[clusters_new_c==1,1], label='', color='r', marker='x')\n",
    "plt.scatter(embeddings_new_c[clusters_new_c==-1,0],embeddings_new_c[clusters_new_c==-1,1], label='', color='y', marker='o')\n",
    "plt.title('Clusters (combinatorial) - removed outliers')\n",
    "plt.show()\n",
    "plt.close(fig)\n",
    "\n",
    "fig = plt.figure()\n",
    "plt.scatter(embeddings_new_n[clusters_new_n==1,0],embeddings_new_n[clusters_new_n==1,1], label='', color='r', marker='x')\n",
    "plt.scatter(embeddings_new_n[clusters_new_n==-1,0],embeddings_new_n[clusters_new_n==-1,1], label='', color='y', marker='o')\n",
    "plt.title('Clusters (normalized) - removed outliers')\n",
    "plt.show()\n",
    "plt.close(fig)"
   ]
  },
  {
   "cell_type": "markdown",
   "metadata": {},
   "source": [
    "### Question 15\n",
    "\n",
    "Why did we use the eigenvectors of the graph Laplacian as features? Could we use other features for clustering?"
   ]
  },
  {
   "cell_type": "markdown",
   "metadata": {},
   "source": [
    "**Your answer here.**"
   ]
  }
 ],
 "metadata": {
  "kernelspec": {
   "display_name": "Python 3",
   "language": "python",
   "name": "python3"
  },
  "language_info": {
   "codemirror_mode": {
    "name": "ipython",
    "version": 3
   },
   "file_extension": ".py",
   "mimetype": "text/x-python",
   "name": "python",
   "nbconvert_exporter": "python",
   "pygments_lexer": "ipython3",
   "version": "3.7.0"
  }
 },
 "nbformat": 4,
 "nbformat_minor": 2
}
