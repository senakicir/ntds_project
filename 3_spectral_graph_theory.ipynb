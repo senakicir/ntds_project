{
 "cells": [
  {
   "cell_type": "markdown",
   "metadata": {},
   "source": [
    "# [NTDS'18] milestone 3: spectral graph theory\n",
    "[ntds'18]: https://github.com/mdeff/ntds_2018\n",
    "\n",
    "[Michaël Defferrard](http://deff.ch), [EPFL LTS2](https://lts2.epfl.ch)"
   ]
  },
  {
   "cell_type": "markdown",
   "metadata": {},
   "source": [
    "## Students\n",
    "\n",
    "* Team: `32`\n",
    "* Students: `George Adaimi, Okan Altingovde, Isinsu Katircioglu, Sena Kiciroglu`\n",
    "* Dataset: `FMA`"
   ]
  },
  {
   "cell_type": "markdown",
   "metadata": {},
   "source": [
    "## Rules\n",
    "\n",
    "* Milestones have to be completed by teams. No collaboration between teams is allowed.\n",
    "* Textual answers shall be short. Typically one to two sentences.\n",
    "* Code has to be clean.\n",
    "* You cannot import any other library than we imported.\n",
    "* When submitting, the notebook is executed and the results are stored. I.e., if you open the notebook again it should show numerical results and plots. We won't be able to execute your notebooks.\n",
    "* The notebook is re-executed from a blank state before submission. That is to be sure it is reproducible. You can click \"Kernel\" then \"Restart & Run All\" in Jupyter."
   ]
  },
  {
   "cell_type": "markdown",
   "metadata": {},
   "source": [
    "## Objective\n",
    "\n",
    "The goal of this milestone is to get familiar with the graph Laplacian and its spectral decomposition."
   ]
  },
  {
   "cell_type": "markdown",
   "metadata": {},
   "source": [
    "## 0 Load your network"
   ]
  },
  {
   "cell_type": "code",
   "execution_count": 35,
   "metadata": {},
   "outputs": [],
   "source": [
    "%matplotlib inline"
   ]
  },
  {
   "cell_type": "markdown",
   "metadata": {},
   "source": [
    "If you get a `No module named 'sklearn'` error when running the below cell, install [scikit-learn](https://scikit-learn.org) with `conda install scikit-learn` (after activating the `ntds_2018` environment)."
   ]
  },
  {
   "cell_type": "code",
   "execution_count": 36,
   "metadata": {},
   "outputs": [],
   "source": [
    "import numpy as np\n",
    "from scipy import sparse\n",
    "import scipy.sparse.linalg\n",
    "import matplotlib.pyplot as plt\n",
    "#from sklearn.cluster import KMeans"
   ]
  },
  {
   "cell_type": "markdown",
   "metadata": {},
   "source": [
    "Let's denote your graph as $\\mathcal{G} = (\\mathcal{V}, \\mathcal{E}, A)$, where $\\mathcal{V}$ is the set of nodes, $\\mathcal{E}$ is the set of edges, $A \\in \\mathbb{R}^{N \\times N}$ is the (weighted) adjacency matrix, and $N = |\\mathcal{V}|$ is the number of nodes.\n",
    "\n",
    "Import the adjacency matrix $A$ that you constructed in the first milestone.\n",
    "(You're allowed to update it between milestones if you want to.)"
   ]
  },
  {
   "cell_type": "code",
   "execution_count": 37,
   "metadata": {},
   "outputs": [
    {
     "name": "stdout",
     "output_type": "stream",
     "text": [
      "Number of nodes:  2000\n",
      "Number of edges:  600104\n"
     ]
    }
   ],
   "source": [
    "#adjacency =  np.load('adjacency.npy')# the adjacency matrix\n",
    "adjacency =  np.load('adjacency_noDisconnectedNodes_mfccStdMean.npy')\n",
    "n_nodes =  adjacency.shape[0]# the number of nodes in the network\n",
    "n_edges =  np.count_nonzero(adjacency)//2# the number of edges in the network\n",
    "print('Number of nodes: ', n_nodes)\n",
    "print('Number of edges: ', n_edges)"
   ]
  },
  {
   "cell_type": "markdown",
   "metadata": {},
   "source": [
    "## 1 Graph Laplacian"
   ]
  },
  {
   "cell_type": "markdown",
   "metadata": {},
   "source": [
    "### Question 1\n",
    "\n",
    "From the (weighted) adjacency matrix $A$, compute both the combinatorial (also called unnormalized) and the normalized graph Laplacian matrices.\n",
    "\n",
    "Note: if your graph is weighted, use the weighted adjacency matrix. If not, use the binary adjacency matrix.\n",
    "\n",
    "For efficient storage and computation, store these sparse matrices in a [compressed sparse row (CSR) format](https://en.wikipedia.org/wiki/Sparse_matrix#Compressed_sparse_row_.28CSR.2C_CRS_or_Yale_format.29)."
   ]
  },
  {
   "cell_type": "code",
   "execution_count": 38,
   "metadata": {},
   "outputs": [
    {
     "name": "stderr",
     "output_type": "stream",
     "text": [
      "/usr/local/lib/python3.7/site-packages/ipykernel_launcher.py:5: RuntimeWarning: divide by zero encountered in power\n",
      "  \"\"\"\n"
     ]
    },
    {
     "name": "stdout",
     "output_type": "stream",
     "text": [
      "laplacian Combinatorial:\n",
      "   (0, 0)\t736.4118649732084\n",
      "  (0, 1)\t-0.9694788663179741\n",
      "  (0, 10)\t-0.9821812207021277\n",
      "  (0, 12)\t-0.9055398177256279\n",
      "  (0, 18)\t-0.962899108253795\n",
      "  (0, 20)\t-0.8289336255623405\n",
      "  (0, 23)\t-0.9762191568204348\n",
      "  (0, 26)\t-0.9277247159868905\n",
      "  (0, 28)\t-0.9286181839532163\n",
      "  (0, 35)\t-0.8289990968675252\n",
      "  (0, 36)\t-0.800740495041291\n",
      "  (0, 37)\t-0.9031207802476375\n",
      "  (0, 39)\t-0.886371423200078\n",
      "  (0, 40)\t-0.9336990073453997\n",
      "  (0, 41)\t-0.8701924208343663\n",
      "  (0, 42)\t-0.8386452939494987\n",
      "  (0, 43)\t-0.9809167306038409\n",
      "  (0, 46)\t-0.9386309543057404\n",
      "  (0, 47)\t-0.8233110197565668\n",
      "  (0, 48)\t-0.9558624826090821\n",
      "  (0, 49)\t-0.8372352377360682\n",
      "  (0, 50)\t-0.9097517981616013\n",
      "  (0, 51)\t-0.9525344326881924\n",
      "  (0, 53)\t-0.9316342883393961\n",
      "  (0, 54)\t-0.896948414958834\n",
      "  :\t:\n",
      "  (1999, 1156)\t-0.8145259132663493\n",
      "  (1999, 1176)\t-0.8219414835747032\n",
      "  (1999, 1325)\t-0.820685658632887\n",
      "  (1999, 1361)\t-0.8770033681857601\n",
      "  (1999, 1381)\t-0.9357864998255927\n",
      "  (1999, 1382)\t-0.967821600637976\n",
      "  (1999, 1383)\t-0.9407798153374822\n",
      "  (1999, 1384)\t-0.9215200409758861\n",
      "  (1999, 1387)\t-0.8189986401360266\n",
      "  (1999, 1388)\t-0.8025239815235902\n",
      "  (1999, 1390)\t-0.8896386820991828\n",
      "  (1999, 1410)\t-0.8185313351527874\n",
      "  (1999, 1433)\t-0.8502664012772251\n",
      "  (1999, 1506)\t-0.8637633348110216\n",
      "  (1999, 1546)\t-0.9788798089672042\n",
      "  (1999, 1576)\t-0.9089668924693215\n",
      "  (1999, 1661)\t-0.8147465736612726\n",
      "  (1999, 1699)\t-0.8983370342827804\n",
      "  (1999, 1778)\t-0.8154637857708201\n",
      "  (1999, 1779)\t-0.9083250920357537\n",
      "  (1999, 1818)\t-0.8137585673771226\n",
      "  (1999, 1824)\t-0.9213185710956986\n",
      "  (1999, 1965)\t-0.9419999308332473\n",
      "  (1999, 1967)\t-0.8850590096013115\n",
      "  (1999, 1999)\t57.59832146191756\n",
      "laplacian Normalized:\n",
      "   (0, 0)\t1.0\n",
      "  (0, 1)\t-0.001205654200871543\n",
      "  (0, 10)\t-0.0013512901453575042\n",
      "  (0, 12)\t-0.0013043157823261972\n",
      "  (0, 18)\t-0.0011091565787633164\n",
      "  (0, 20)\t-0.0011133295046482368\n",
      "  (0, 23)\t-0.0015322093233669449\n",
      "  (0, 26)\t-0.001167236846893144\n",
      "  (0, 28)\t-0.0010856124215388445\n",
      "  (0, 35)\t-0.0011283999846097672\n",
      "  (0, 36)\t-0.0011961878699598622\n",
      "  (0, 37)\t-0.0013483070840877103\n",
      "  (0, 39)\t-0.0013091028755027481\n",
      "  (0, 40)\t-0.0014324551553666395\n",
      "  (0, 41)\t-0.0011806893650844828\n",
      "  (0, 42)\t-0.001066934559036451\n",
      "  (0, 43)\t-0.0013877746673161193\n",
      "  (0, 46)\t-0.0015479392861374379\n",
      "  (0, 47)\t-0.001464160427672769\n",
      "  (0, 48)\t-0.0011391586507505042\n",
      "  (0, 49)\t-0.0011774338829796073\n",
      "  (0, 50)\t-0.001049835001237948\n",
      "  (0, 51)\t-0.0011850770137492499\n",
      "  (0, 53)\t-0.0010520830636963892\n",
      "  (0, 54)\t-0.00117750198541195\n",
      "  :\t:\n",
      "  (1999, 1156)\t-0.004385350314252926\n",
      "  (1999, 1176)\t-0.007464131218160373\n",
      "  (1999, 1325)\t-0.007143127097568923\n",
      "  (1999, 1361)\t-0.005137218063586026\n",
      "  (1999, 1381)\t-0.010839930542052165\n",
      "  (1999, 1382)\t-0.00729928181706578\n",
      "  (1999, 1383)\t-0.0062098402203615635\n",
      "  (1999, 1384)\t-0.008579581185114106\n",
      "  (1999, 1387)\t-0.004441194028416132\n",
      "  (1999, 1388)\t-0.003875055993451241\n",
      "  (1999, 1390)\t-0.0050290084512715875\n",
      "  (1999, 1410)\t-0.005926363302005355\n",
      "  (1999, 1433)\t-0.007820029243331606\n",
      "  (1999, 1506)\t-0.004858943004546154\n",
      "  (1999, 1546)\t-0.008977573461207053\n",
      "  (1999, 1576)\t-0.007700093742061013\n",
      "  (1999, 1661)\t-0.003943121390953718\n",
      "  (1999, 1699)\t-0.006970325912127475\n",
      "  (1999, 1778)\t-0.005154251811888681\n",
      "  (1999, 1779)\t-0.006884042732270296\n",
      "  (1999, 1818)\t-0.004820650757502119\n",
      "  (1999, 1824)\t-0.005863559181893092\n",
      "  (1999, 1965)\t-0.00603919475961816\n",
      "  (1999, 1967)\t-0.006062926933253738\n",
      "  (1999, 1999)\t0.9999999999999999\n"
     ]
    }
   ],
   "source": [
    "D = np.diag(adjacency.sum(axis=1))\n",
    "L = D - adjacency\n",
    "laplacian_combinatorial =  sparse.csr_matrix(L)\n",
    "\n",
    "sqrt_D = np.power(D, -0.5)\n",
    "sqrt_D[sqrt_D == np.inf] = 0\n",
    "laplacian_normalized = sparse.csr_matrix(sqrt_D@L@sqrt_D)\n",
    "print('laplacian Combinatorial:\\n', laplacian_combinatorial)\n",
    "print('laplacian Normalized:\\n', laplacian_normalized)\n",
    "\n",
    "#np.sum(adjacency, axis=0).size"
   ]
  },
  {
   "cell_type": "markdown",
   "metadata": {},
   "source": [
    "Use one of them as the graph Laplacian $L$ for the rest of the milestone.\n",
    "We however encourage you to run the code with both to get a sense of the difference!"
   ]
  },
  {
   "cell_type": "code",
   "execution_count": 39,
   "metadata": {},
   "outputs": [],
   "source": [
    "laplacian =  laplacian_normalized"
   ]
  },
  {
   "cell_type": "markdown",
   "metadata": {},
   "source": [
    "### Question 2\n",
    "\n",
    "Compute the eigendecomposition of the Laplacian $L = U^\\top \\Lambda U$, where the columns $u_k \\in \\mathbb{R}^N$ of $U = [u_1, \\dots, u_N] \\in \\mathbb{R}^{N \\times N}$ are the eigenvectors and the diagonal elements $\\lambda_k = \\Lambda_{kk}$ are the corresponding eigenvalues.\n",
    "\n",
    "Make sure that the eigenvalues are ordered, i.e., $0 = \\lambda_1 \\leq \\lambda_2 \\leq \\dots \\leq \\lambda_N$."
   ]
  },
  {
   "cell_type": "code",
   "execution_count": 45,
   "metadata": {},
   "outputs": [
    {
     "name": "stdout",
     "output_type": "stream",
     "text": [
      "(2000, 2000)\n",
      "(2000, 2000)\n",
      "(2000,)\n",
      "[-1.24900090e-16  5.09372972e-02  1.85938057e+00 ...  1.00058791e+00\n",
      "  1.00112242e+00  1.00035662e+00]\n"
     ]
    }
   ],
   "source": [
    "eigenvalues, eigenvectors = np.linalg.eig(laplacian.todense())\n",
    "#if it's taking too long, you can downsample (since we have 2k we should be fine)\n",
    "print(laplacian.shape)\n",
    "print(eigenvectors.shape)\n",
    "print(eigenvalues.shape)\n",
    "print(eigenvalues)\n",
    "assert eigenvectors.shape == (n_nodes, n_nodes)\n",
    "sorted_indexes = eigenvalues.argsort()\n",
    "eigenvalues = eigenvalues[sorted_indexes]\n",
    "eigenvectors = eigenvectors[sorted_indexes]"
   ]
  },
  {
   "cell_type": "markdown",
   "metadata": {},
   "source": [
    "Justify your choice of eigensolver."
   ]
  },
  {
   "cell_type": "markdown",
   "metadata": {},
   "source": [
    "**Our answer here.**\n",
    "We choose numpy's eigensolver since we want to compute eigenvalues for all eigenvectors which is not possible with scipy sparse eigensolver."
   ]
  },
  {
   "cell_type": "markdown",
   "metadata": {},
   "source": [
    "### Question 3\n",
    "\n",
    "We can write $L = S S^\\top$. What is the matrix $S$? What does $S^\\top x$, with $x \\in \\mathbb{R}^N$, compute?"
   ]
  },
  {
   "cell_type": "markdown",
   "metadata": {},
   "source": [
    "**Your answer here.** If L is the unnormalized laplacian, then S is the incidence matrix with its elements:\n",
    "\n",
    "$$S(i,j) = \\left\\{\\begin{matrix}\n",
    " +1& \\text{if } e_j=(v_i,v_k) \\text{ for some } k \\\\ \n",
    " -1& \\text{if } e_j=(v_k,v_i) \\text{ for some } k\\\\ \n",
    " 0& otherwise\n",
    "\\end{matrix}\\right.$$\n",
    "\n",
    "On the other hand, if L is normalized, then S is the matrix where:\n",
    "\n",
    "$$S(i,j) = \\left\\{\\begin{matrix}\n",
    " +\\frac{1}{\\sqrt{d_u}}& \\text{if } e_j=(v_i,v_k) \\text{ for some } k \\\\ \n",
    " -\\frac{1}{\\sqrt{d_u}}& \\text{if } e_j=(v_k,v_i) \\text{ for some } k\\\\ \n",
    " 0& otherwise\n",
    "\\end{matrix}\\right.$$\n",
    "\n",
    "where $d_v$ and $d_u$ denote the degree of the vertex v and u respectively.\n",
    "\n",
    "$S^Tx$ computes the eigenvectors of S. (The derivative?????)"
   ]
  },
  {
   "cell_type": "markdown",
   "metadata": {},
   "source": [
    "### Question 4\n",
    "\n",
    "Show that $\\lambda_k = \\| S^\\top u_k \\|_2^2$, where $\\| \\cdot \\|_2^2$ denotes the squared Euclidean norm (a.k.a. squared $L^2$ norm)."
   ]
  },
  {
   "cell_type": "markdown",
   "metadata": {},
   "source": [
    "**Your answer here.**"
   ]
  },
  {
   "cell_type": "markdown",
   "metadata": {},
   "source": [
    "What does the quantity $\\| S^\\top x \\|_2^2$ tell us about $x$?"
   ]
  },
  {
   "cell_type": "markdown",
   "metadata": {},
   "source": [
    "**Your answer here.**"
   ]
  },
  {
   "cell_type": "markdown",
   "metadata": {},
   "source": [
    "### Question 5\n",
    "\n",
    "What is the value of $u_0$, both for the combinatorial and normalized Laplacians?"
   ]
  },
  {
   "cell_type": "markdown",
   "metadata": {},
   "source": [
    "**Your annswer here.**"
   ]
  },
  {
   "cell_type": "markdown",
   "metadata": {},
   "source": [
    "### Question 6\n",
    "\n",
    "Look at the spectrum of the Laplacian by plotting the eigenvalues.\n",
    "Comment on what you observe."
   ]
  },
  {
   "cell_type": "code",
   "execution_count": 51,
   "metadata": {},
   "outputs": [
    {
     "data": {
      "text/plain": [
       "array([-1.24900090e-16,  5.09372972e-02,  2.00644424e-01, ...,\n",
       "        1.34164627e+00,  1.52222613e+00,  1.85938057e+00])"
      ]
     },
     "execution_count": 51,
     "metadata": {},
     "output_type": "execute_result"
    }
   ],
   "source": [
    "eigenvalues[:None]"
   ]
  },
  {
   "cell_type": "code",
   "execution_count": 58,
   "metadata": {},
   "outputs": [
    {
     "name": "stderr",
     "output_type": "stream",
     "text": [
      "/usr/local/lib/python3.7/site-packages/matplotlib/cbook/__init__.py:424: MatplotlibDeprecationWarning: \n",
      "Passing one of 'on', 'true', 'off', 'false' as a boolean is deprecated; use an actual boolean (True/False) instead.\n",
      "  warn_deprecated(\"2.2\", \"Passing one of 'on', 'true', 'off', 'false' as a \"\n"
     ]
    },
    {
     "data": {
      "image/png": "[encoded data removed]",
      "text/plain": [
       "<Figure size 432x288 with 1 Axes>"
      ]
     },
     "metadata": {
      "needs_background": "light"
     },
     "output_type": "display_data"
    }
   ],
   "source": [
    "# Your code here.\n",
    "#0th eigenval should be 0\n",
    "\n",
    "def plot_spectrum(eigenvalues,with_label,range = None):\n",
    "    eigenvalues = eigenvalues[:None]\n",
    "    fig = plt.figure()\n",
    "    index = np.arange(len(eigenvalues))\n",
    "    ax = fig.add_subplot(1,1,1)\n",
    "    ax.set_facecolor((1.0, 1.0, 1.0))\n",
    "    plt.plot(index, eigenvalues, label='eingenvalues', color='c', marker='o')\n",
    "    ax.set_ylabel('Value')\n",
    "    plt.xticks(index)\n",
    "    #plt.ylabel('Value')\n",
    "    plt.xlabel('k')\n",
    "    ax.grid('on')\n",
    "    \n",
    "    if with_label:\n",
    "        for x, eigenvalue in zip(index,eigenvalues):\n",
    "            ax.annotate('%.2f'%(eigenvalue), (x,eigenvalue))\n",
    "    plt.title('Value of lambda(k)', pad=25)\n",
    "    plt.show()\n",
    "    plt.close(fig)\n",
    "        \n",
    "plot_spectrum(eigenvalues, with_label=False)   "
   ]
  },
  {
   "cell_type": "markdown",
   "metadata": {},
   "source": [
    "**Your answer here.**"
   ]
  },
  {
   "cell_type": "markdown",
   "metadata": {},
   "source": [
    "How many connected components are there in your graph? Answer using the eigenvalues only."
   ]
  },
  {
   "cell_type": "code",
   "execution_count": 60,
   "metadata": {},
   "outputs": [
    {
     "data": {
      "text/plain": [
       "1"
      ]
     },
     "execution_count": 60,
     "metadata": {},
     "output_type": "execute_result"
    }
   ],
   "source": [
    "# Your code here.\n",
    "def get_numbConnectedComp(eigenvalues):\n",
    "    return np.sum(np.round(eigenvalues,decimals=2) == 0)\n",
    "\n",
    "get_numbConnectedComp(eigenvalues)"
   ]
  },
  {
   "cell_type": "markdown",
   "metadata": {},
   "source": [
    "Is there an upper bound on the eigenvalues, i.e., what is the largest possible eigenvalue? Answer for both the combinatorial and normalized Laplacians."
   ]
  },
  {
   "cell_type": "markdown",
   "metadata": {},
   "source": [
    "**Your answer here.**"
   ]
  },
  {
   "cell_type": "markdown",
   "metadata": {},
   "source": [
    "## 3 Laplacian eigenmaps\n",
    "\n",
    "*Laplacian eigenmaps* is a method to embed a graph $\\mathcal{G}$ in a $d$-dimensional Euclidean space.\n",
    "That is, it associates a vector $z_i \\in \\mathbb{R}^d$ to every node $v_i \\in \\mathcal{V}$.\n",
    "The graph $\\mathcal{G}$ is thus embedded as $Z \\in \\mathbb{R}^{N \\times d}$."
   ]
  },
  {
   "cell_type": "markdown",
   "metadata": {},
   "source": [
    "### Question 7\n",
    "\n",
    "What do we use Laplacian eigenmaps for? (Or more generally, graph embeddings.)"
   ]
  },
  {
   "cell_type": "markdown",
   "metadata": {},
   "source": [
    "**Your answer here.**"
   ]
  },
  {
   "cell_type": "markdown",
   "metadata": {},
   "source": [
    "### Question 8\n",
    "\n",
    "Embed your graph in $d=2$ dimensions with Laplacian eigenmaps.\n",
    "Try with and without re-normalizing the eigenvectors by the degrees, then keep the one your prefer.\n",
    "\n",
    "**Recompute** the eigenvectors you need with a partial eigendecomposition method for sparse matrices.\n",
    "When $k \\ll N$ eigenvectors are needed, partial eigendecompositions are much more efficient than complete eigendecompositions.\n",
    "A partial eigendecomposition scales as $\\Omega(k |\\mathcal{E}|$), while a complete eigendecomposition costs $\\mathcal{O}(N^3)$ operations."
   ]
  },
  {
   "cell_type": "code",
   "execution_count": 70,
   "metadata": {},
   "outputs": [
    {
     "name": "stdout",
     "output_type": "stream",
     "text": [
      "[[ 2.60857047e-02  1.51819504e-04]\n",
      " [ 2.84837640e-02  1.79074512e-04]\n",
      " [ 2.40819222e-02  1.49918242e-04]\n",
      " ...\n",
      " [ 1.80534019e-02  3.57121928e-05]\n",
      " [ 1.99753991e-02 -2.70911830e-05]\n",
      " [ 3.45860013e-03 -5.88423220e-06]]\n"
     ]
    }
   ],
   "source": [
    "# Your code here.\n",
    "def get_LaplacianEigenMaps(laplacian, new_dim =2):\n",
    "    eigenvalues, eigenvectors = np.linalg.eig(laplacian.todense())\n",
    "    sorted_indexes = eigenvalues.argsort()\n",
    "    eigenvectors = eigenvectors[sorted_indexes]\n",
    "    embeddings = eigenvectors[:,:new_dim]\n",
    "    \n",
    "    return embeddings\n",
    "\n",
    "embeddings = (get_LaplacianEigenMaps(laplacian))"
   ]
  },
  {
   "cell_type": "markdown",
   "metadata": {},
   "source": [
    "Plot the nodes embedded in 2D. Comment on what you see."
   ]
  },
  {
   "cell_type": "code",
   "execution_count": null,
   "metadata": {},
   "outputs": [],
   "source": [
    "# Your code here.\n",
    "fig = plt.figure()\n",
    "plt.spy(adjacency, markersize=0.01)\n",
    "plt.title('adjacency matrix displayed using spy')\n",
    "plt.show()\n",
    "plt.close(fig)\n",
    "\n",
    "fig = plt.figure()\n",
    "plt.imshow(adjacency)\n",
    "plt.title('adjacency matrix displayed using imshow')\n",
    "plt.show()\n",
    "plt.close(fig)"
   ]
  },
  {
   "cell_type": "markdown",
   "metadata": {},
   "source": [
    "**Your answer here.**"
   ]
  },
  {
   "cell_type": "markdown",
   "metadata": {},
   "source": [
    "### Question 9"
   ]
  },
  {
   "cell_type": "markdown",
   "metadata": {},
   "source": [
    "What does the embedding $Z \\in \\mathbb{R}^{N \\times d}$ preserve?"
   ]
  },
  {
   "cell_type": "markdown",
   "metadata": {},
   "source": [
    "**Your answer here.**"
   ]
  },
  {
   "cell_type": "markdown",
   "metadata": {},
   "source": [
    "## 2 Spectral clustering\n",
    "\n",
    "*Spectral clustering* is a method to partition a graph into distinct clusters.\n",
    "The method associates a feature vector $z_i \\in \\mathbb{R}^d$ to every node $v_i \\in \\mathcal{V}$, then runs [$k$-means](https://en.wikipedia.org/wiki/K-means_clustering) in the embedding space $\\mathbb{R}^d$ to assign each node $v_i \\in \\mathcal{V}$ to a cluster $c_j \\in \\mathcal{C}$, where $k = |\\mathcal{C}|$ is the number of desired clusters."
   ]
  },
  {
   "cell_type": "markdown",
   "metadata": {},
   "source": [
    "### Question 10\n",
    "\n",
    "Choose $k$ and $d$. How did you get to those numbers?"
   ]
  },
  {
   "cell_type": "markdown",
   "metadata": {},
   "source": [
    "**Your answer here.**"
   ]
  },
  {
   "cell_type": "markdown",
   "metadata": {},
   "source": [
    "### Question 11\n",
    "\n",
    "1. Embed your graph in $\\mathbb{R}^d$ as $Z \\in \\mathbb{R}^{N \\times d}$.\n",
    "   Try with and without re-normalizing the eigenvectors by the degrees, then keep the one your prefer.\n",
    "1. If you want $k=2$ clusters, partition with the Fiedler vector. For $k > 2$ clusters, run $k$-means on $Z$. Don't implement $k$-means, use the `KMeans` class imported from scikit-learn."
   ]
  },
  {
   "cell_type": "code",
   "execution_count": null,
   "metadata": {},
   "outputs": [],
   "source": [
    "# Your code here."
   ]
  },
  {
   "cell_type": "markdown",
   "metadata": {},
   "source": [
    "### Question 12\n",
    "\n",
    "Use the computed cluster assignment to reorder the adjacency matrix $A$.\n",
    "What do you expect? What do you observe?"
   ]
  },
  {
   "cell_type": "code",
   "execution_count": null,
   "metadata": {},
   "outputs": [],
   "source": [
    "# Your code here."
   ]
  },
  {
   "cell_type": "markdown",
   "metadata": {},
   "source": [
    "**Your answer here.**"
   ]
  },
  {
   "cell_type": "markdown",
   "metadata": {},
   "source": [
    "### Question 13\n",
    "\n",
    "If you have ground truth clusters for your dataset, compare the cluster assignment from spectral clustering to the ground truth.\n",
    "A simple quantitative measure is to compute the percentage of nodes that have been correctly categorized.\n",
    "If you don't have a ground truth, qualitatively assess the quality of the clustering.\n",
    "\n",
    "Ground truth clusters are the \"real clusters\".\n",
    "For example, the genre of musical tracks in FMA, the category of Wikipedia articles, the spammer status of individuals, etc.\n",
    "Look for the `labels` in the [dataset descriptions](https://github.com/mdeff/ntds_2018/tree/master/projects/README.md)."
   ]
  },
  {
   "cell_type": "code",
   "execution_count": null,
   "metadata": {},
   "outputs": [],
   "source": [
    "# Your code here."
   ]
  },
  {
   "cell_type": "markdown",
   "metadata": {},
   "source": [
    "### Question 14\n",
    "\n",
    "Plot the cluster assignment (one color per cluster) on the 2D embedding you computed above with Laplacian eigenmaps."
   ]
  },
  {
   "cell_type": "code",
   "execution_count": null,
   "metadata": {},
   "outputs": [],
   "source": [
    "# Your code here."
   ]
  },
  {
   "cell_type": "markdown",
   "metadata": {},
   "source": [
    "### Question 15\n",
    "\n",
    "Why did we use the eigenvectors of the graph Laplacian as features? Could we use other features for clustering?"
   ]
  },
  {
   "cell_type": "markdown",
   "metadata": {},
   "source": [
    "**Your answer here.**"
   ]
  }
 ],
 "metadata": {
  "kernelspec": {
   "display_name": "Python 3",
   "language": "python",
   "name": "python3"
  },
  "language_info": {
   "codemirror_mode": {
    "name": "ipython",
    "version": 3
   },
   "file_extension": ".py",
   "mimetype": "text/x-python",
   "name": "python",
   "nbconvert_exporter": "python",
   "pygments_lexer": "ipython3",
   "version": "3.7.0"
  }
 },
 "nbformat": 4,
 "nbformat_minor": 2
}
